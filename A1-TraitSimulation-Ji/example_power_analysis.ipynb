{
 "cells": [
  {
   "cell_type": "markdown",
   "metadata": {},
   "source": [
    "# TraitSimulation: Example Power Analysis\n",
    "\n",
    "Authors: Sarah Ji, Chris German, Kenneth Lange, Janet Sinsheimer, Hua Zhou, Jin Zhou, Eric Sobel"
   ]
  },
  {
   "cell_type": "markdown",
   "metadata": {},
   "source": [
    "In this demonstration, we use the ordinal model to show how to estimate the statistical power to detect the effect of a single associated SNP on simulated data, accessible to all users. The details of the ordinal model, our applications of the software to UK Biobank data and all other model specifications can find the references. [3, 5]\n",
    "\n",
    "This example demonstrates a full power pipeline contained within the OpenMendel environment and shows how operating within the OpenMendel universe brings potential advantages over the available software(s) when needed for downstream analysis or study design. [1, 2]\n",
    "\n",
    "### Statistical Power\n",
    "\n",
    "Let the trait $\\mathbf{Y_{n \\times 1}}$ have predictor matrix $\\textbf{X}$ and genotype vector $\\mathbf{G}$ for $n$ individuals. We estimate the power to detect an associated SNP with effect size $\\gamma$ at the pre-specified significance level $\\alpha$.\n",
    "\n",
    " $$\n",
    "\\mathbf{Y}_{n \\times 1} = \\mathbf{X}\\mathbf{\\beta} + \\mathbf{G} \\gamma + \\mathbf{\\epsilon}; \\hspace{1.1in}\n",
    "$$\n",
    "\n",
    "We illustrate this example in three digestable steps as shown in the figure for the Ordered Multinomial Model: \n",
    "   * The first by simulating genotypes and covariate values representative for our study population.\n",
    "   * Carry over the simulated design matrix from (1) to create the OrderedMultinomialTrait model object.\n",
    "   \n",
    "   $$\n",
    "\\textbf{H}_0: \\gamma = 0  \\hspace{0.25in}\\text{versus}\\hspace{0.25in} \\textbf{H}_A: \\gamma \\neq 0\n",
    "$$\n",
    "\n",
    "   * Simulate off the OrderedMultinomialTrait model object created in (2) and run the power analyses for the desired significance level. Specifically, for each simulated trait vector, we perform a likelihood ratio test of the above hypothesis test and reject the null when the p-value falls below α. \n",
    "\n",
    "To illustrate, we set $\\alpha = 5 \\times 10^{-8},$ and estimate the power for the model as the proportion of $n = 100$ tests rejecting the null in this small example. It is important to note that $n = 100$ is completely arbitrary, and increasing the number of tests will result in a smoother curve."
   ]
  },
  {
   "cell_type": "markdown",
   "metadata": {},
   "source": [
    "Double check that you are using Julia version 1.0 or higher by checking the machine information"
   ]
  },
  {
   "cell_type": "code",
   "execution_count": 1,
   "metadata": {},
   "outputs": [
    {
     "name": "stdout",
     "output_type": "stream",
     "text": [
      "Julia Version 1.5.2\n",
      "Commit 539f3ce943 (2020-09-23 23:17 UTC)\n",
      "Platform Info:\n",
      "  OS: macOS (x86_64-apple-darwin18.7.0)\n",
      "  CPU: Intel(R) Core(TM) i9-9880H CPU @ 2.30GHz\n",
      "  WORD_SIZE: 64\n",
      "  LIBM: libopenlibm\n",
      "  LLVM: libLLVM-9.0.1 (ORCJIT, skylake)\n"
     ]
    }
   ],
   "source": [
    "versioninfo()"
   ]
  },
  {
   "cell_type": "code",
   "execution_count": 2,
   "metadata": {},
   "outputs": [],
   "source": [
    "using Random, Plots, DataFrames, LinearAlgebra, DelimitedFiles\n",
    "using SnpArrays, TraitSimulation, GLM, StatsBase, OrdinalMultinomialModels\n",
    "Random.seed!(1234);"
   ]
  },
  {
   "cell_type": "markdown",
   "metadata": {},
   "source": [
    "### `Create Simulated Design Matrix:`\n",
    "\n",
    "#### Genetic Covariates:\n",
    "\n",
    "Say for example, we have a study population of `n = 5000` people, where 51% are females, the mean age is 45 years with a standard deviation of 8 years and we are interested in studying the effect of the causal snp with a predetermined minor allele frequency. To demonstrate usage, we use the minor allele frequency of the causal variant to simulate the SnpArray under Hardy Weinberg Equillibrium (HWE) with the `snparray_simulation` function as follows:\n",
    "    \n",
    "    \n",
    "| Genotype | Plink/SnpArray |  \n",
    "|:---:|:---:|  \n",
    "| A1,A1 | 0x00 |  \n",
    "| missing | 0x01 |\n",
    "| A1,A2 | 0x02 |  \n",
    "| A2,A2 | 0x03 |  \n",
    "    \n",
    "\n",
    "Given the specified minor allele frequency, `maf`, here `maf = [0.2]`, this function samples from the genotype vector under HWE and returns the compressed binary format under SnpArrays. Note if you give the function a vector of minor allele frequencies, specify `maf = [0.2, 0.25, 0.3]`, for each specified allele it will simulate a SnpArray under HWE and ouput them together."
   ]
  },
  {
   "cell_type": "code",
   "execution_count": 3,
   "metadata": {},
   "outputs": [
    {
     "data": {
      "text/plain": [
       "5000×1 SnpArray:\n",
       " 0x00\n",
       " 0x02\n",
       " 0x00\n",
       " 0x00\n",
       " 0x02\n",
       " 0x02\n",
       " 0x00\n",
       " 0x00\n",
       " 0x00\n",
       " 0x00\n",
       " 0x02\n",
       " 0x00\n",
       " 0x00\n",
       "    ⋮\n",
       " 0x00\n",
       " 0x02\n",
       " 0x00\n",
       " 0x02\n",
       " 0x00\n",
       " 0x00\n",
       " 0x03\n",
       " 0x02\n",
       " 0x00\n",
       " 0x00\n",
       " 0x02\n",
       " 0x00"
      ]
     },
     "execution_count": 3,
     "metadata": {},
     "output_type": "execute_result"
    }
   ],
   "source": [
    "n = 5000\n",
    "maf_causal_snp = [0.2]\n",
    "Simulated_SnpArray = snparray_simulation(maf_causal_snp, n)"
   ]
  },
  {
   "cell_type": "markdown",
   "metadata": {},
   "source": [
    "### convert\n",
    "By default `convert` function translates genotypes according to the *additive* SNP model, which essentially counts the number of **A2** allele (0, 1 or 2) per genotype. Other SNP models are *dominant* and *recessive*, both in terms of the **A2** allele.\n",
    "\n",
    "| Genotype | `SnpArray` | `model=ADDITIVE_MODEL` | `model=DOMINANT_MODEL` | `model=RECESSIVE_MODEL` |    \n",
    "|:---:|:---:|:---:|:---:|:---:|  \n",
    "| A1,A1 | 0x00 | 0 | 0 | 0 |  \n",
    "| missing | 0x01 | NaN | NaN | NaN |\n",
    "| A1,A2 | 0x02 | 1 | 1 | 0 |  \n",
    "| A2,A2 | 0x03 | 2 | 1 | 1 |  \n",
    "\n",
    "If desired, the user can decide to specify alternative model parameters found in the [SnpArrays](https://openmendel.github.io/SnpArrays.jl/latest/#convert-and-copyto!-1) documentation.\n",
    "\n",
    "#### Non-Genetic Covariates:\n",
    "For demo purposes we will standardize the age variable. Using the distributions package we can simulate the values for the non-genetic covariates and attach the causal locus as the last column in the design matrix. \n",
    "\n",
    "Now we concatenate the simulated causal locus, transformed to Float64, to the other covariates we want to control for in the study design."
   ]
  },
  {
   "cell_type": "code",
   "execution_count": 4,
   "metadata": {},
   "outputs": [
    {
     "data": {
      "text/html": [
       "<table class=\"data-frame\"><thead><tr><th></th><th>age</th><th>sex</th><th>locus</th></tr><tr><th></th><th>Float64</th><th>Float64</th><th>Float64</th></tr></thead><tbody><p>5,000 rows × 3 columns</p><tr><th>1</th><td>-0.25109</td><td>0.0</td><td>0.0</td></tr><tr><th>2</th><td>-1.45357</td><td>0.0</td><td>1.0</td></tr><tr><th>3</th><td>0.033503</td><td>0.0</td><td>0.0</td></tr><tr><th>4</th><td>-0.258144</td><td>0.0</td><td>0.0</td></tr><tr><th>5</th><td>1.34924</td><td>0.0</td><td>1.0</td></tr><tr><th>6</th><td>-0.904251</td><td>1.0</td><td>1.0</td></tr><tr><th>7</th><td>0.721633</td><td>1.0</td><td>0.0</td></tr><tr><th>8</th><td>0.857207</td><td>0.0</td><td>0.0</td></tr><tr><th>9</th><td>1.09343</td><td>1.0</td><td>0.0</td></tr><tr><th>10</th><td>1.91133</td><td>0.0</td><td>0.0</td></tr><tr><th>11</th><td>1.86753</td><td>0.0</td><td>1.0</td></tr><tr><th>12</th><td>-0.650747</td><td>1.0</td><td>0.0</td></tr><tr><th>13</th><td>1.09837</td><td>1.0</td><td>0.0</td></tr><tr><th>14</th><td>0.250531</td><td>0.0</td><td>1.0</td></tr><tr><th>15</th><td>2.50255</td><td>0.0</td><td>1.0</td></tr><tr><th>16</th><td>0.475223</td><td>1.0</td><td>0.0</td></tr><tr><th>17</th><td>-1.02485</td><td>1.0</td><td>0.0</td></tr><tr><th>18</th><td>-1.8366</td><td>0.0</td><td>1.0</td></tr><tr><th>19</th><td>-0.682392</td><td>0.0</td><td>0.0</td></tr><tr><th>20</th><td>-1.46374</td><td>1.0</td><td>1.0</td></tr><tr><th>21</th><td>0.0213483</td><td>0.0</td><td>1.0</td></tr><tr><th>22</th><td>1.27384</td><td>0.0</td><td>2.0</td></tr><tr><th>23</th><td>-0.861394</td><td>0.0</td><td>1.0</td></tr><tr><th>24</th><td>-0.0641715</td><td>0.0</td><td>1.0</td></tr><tr><th>25</th><td>-0.69999</td><td>1.0</td><td>1.0</td></tr><tr><th>26</th><td>-0.00272351</td><td>0.0</td><td>0.0</td></tr><tr><th>27</th><td>-1.16627</td><td>1.0</td><td>0.0</td></tr><tr><th>28</th><td>0.967222</td><td>1.0</td><td>0.0</td></tr><tr><th>29</th><td>-1.08884</td><td>1.0</td><td>0.0</td></tr><tr><th>30</th><td>-0.0830445</td><td>1.0</td><td>0.0</td></tr><tr><th>&vellip;</th><td>&vellip;</td><td>&vellip;</td><td>&vellip;</td></tr></tbody></table>"
      ],
      "text/latex": [
       "\\begin{tabular}{r|ccc}\n",
       "\t& age & sex & locus\\\\\n",
       "\t\\hline\n",
       "\t& Float64 & Float64 & Float64\\\\\n",
       "\t\\hline\n",
       "\t1 & -0.25109 & 0.0 & 0.0 \\\\\n",
       "\t2 & -1.45357 & 0.0 & 1.0 \\\\\n",
       "\t3 & 0.033503 & 0.0 & 0.0 \\\\\n",
       "\t4 & -0.258144 & 0.0 & 0.0 \\\\\n",
       "\t5 & 1.34924 & 0.0 & 1.0 \\\\\n",
       "\t6 & -0.904251 & 1.0 & 1.0 \\\\\n",
       "\t7 & 0.721633 & 1.0 & 0.0 \\\\\n",
       "\t8 & 0.857207 & 0.0 & 0.0 \\\\\n",
       "\t9 & 1.09343 & 1.0 & 0.0 \\\\\n",
       "\t10 & 1.91133 & 0.0 & 0.0 \\\\\n",
       "\t11 & 1.86753 & 0.0 & 1.0 \\\\\n",
       "\t12 & -0.650747 & 1.0 & 0.0 \\\\\n",
       "\t13 & 1.09837 & 1.0 & 0.0 \\\\\n",
       "\t14 & 0.250531 & 0.0 & 1.0 \\\\\n",
       "\t15 & 2.50255 & 0.0 & 1.0 \\\\\n",
       "\t16 & 0.475223 & 1.0 & 0.0 \\\\\n",
       "\t17 & -1.02485 & 1.0 & 0.0 \\\\\n",
       "\t18 & -1.8366 & 0.0 & 1.0 \\\\\n",
       "\t19 & -0.682392 & 0.0 & 0.0 \\\\\n",
       "\t20 & -1.46374 & 1.0 & 1.0 \\\\\n",
       "\t21 & 0.0213483 & 0.0 & 1.0 \\\\\n",
       "\t22 & 1.27384 & 0.0 & 2.0 \\\\\n",
       "\t23 & -0.861394 & 0.0 & 1.0 \\\\\n",
       "\t24 & -0.0641715 & 0.0 & 1.0 \\\\\n",
       "\t25 & -0.69999 & 1.0 & 1.0 \\\\\n",
       "\t26 & -0.00272351 & 0.0 & 0.0 \\\\\n",
       "\t27 & -1.16627 & 1.0 & 0.0 \\\\\n",
       "\t28 & 0.967222 & 1.0 & 0.0 \\\\\n",
       "\t29 & -1.08884 & 1.0 & 0.0 \\\\\n",
       "\t30 & -0.0830445 & 1.0 & 0.0 \\\\\n",
       "\t$\\dots$ & $\\dots$ & $\\dots$ & $\\dots$ \\\\\n",
       "\\end{tabular}\n"
      ],
      "text/plain": [
       "5000×3 DataFrame\n",
       "│ Row  │ age        │ sex     │ locus   │\n",
       "│      │ \u001b[90mFloat64\u001b[39m    │ \u001b[90mFloat64\u001b[39m │ \u001b[90mFloat64\u001b[39m │\n",
       "├──────┼────────────┼─────────┼─────────┤\n",
       "│ 1    │ -0.25109   │ 0.0     │ 0.0     │\n",
       "│ 2    │ -1.45357   │ 0.0     │ 1.0     │\n",
       "│ 3    │ 0.033503   │ 0.0     │ 0.0     │\n",
       "│ 4    │ -0.258144  │ 0.0     │ 0.0     │\n",
       "│ 5    │ 1.34924    │ 0.0     │ 1.0     │\n",
       "│ 6    │ -0.904251  │ 1.0     │ 1.0     │\n",
       "│ 7    │ 0.721633   │ 1.0     │ 0.0     │\n",
       "│ 8    │ 0.857207   │ 0.0     │ 0.0     │\n",
       "│ 9    │ 1.09343    │ 1.0     │ 0.0     │\n",
       "│ 10   │ 1.91133    │ 0.0     │ 0.0     │\n",
       "⋮\n",
       "│ 4990 │ 1.37751    │ 0.0     │ 1.0     │\n",
       "│ 4991 │ -1.22956   │ 0.0     │ 0.0     │\n",
       "│ 4992 │ -1.91807   │ 0.0     │ 1.0     │\n",
       "│ 4993 │ -0.0629958 │ 1.0     │ 0.0     │\n",
       "│ 4994 │ -0.638554  │ 1.0     │ 0.0     │\n",
       "│ 4995 │ 0.633242   │ 0.0     │ 2.0     │\n",
       "│ 4996 │ 0.873943   │ 0.0     │ 1.0     │\n",
       "│ 4997 │ 0.185351   │ 0.0     │ 0.0     │\n",
       "│ 4998 │ 0.41832    │ 0.0     │ 0.0     │\n",
       "│ 4999 │ -1.79306   │ 0.0     │ 1.0     │\n",
       "│ 5000 │ -0.410382  │ 1.0     │ 0.0     │"
      ]
     },
     "execution_count": 4,
     "metadata": {},
     "output_type": "execute_result"
    }
   ],
   "source": [
    "pdf_sex = Bernoulli(0.51)\n",
    "pdf_age = Normal(45, 8)\n",
    "\n",
    "sex = rand(pdf_sex, n)\n",
    "# simulate age under the specified pdf_age and standardize to be ~ N(0, 1)\n",
    "age = zscore(rand(pdf_age, n))\n",
    "locus = convert(Vector{Float64}, @view(Simulated_SnpArray[:, 1]))\n",
    "\n",
    "X_new = [age sex locus]\n",
    "DataFrame(X_new, [:age, :sex, :locus])"
   ]
  },
  {
   "cell_type": "code",
   "execution_count": 5,
   "metadata": {},
   "outputs": [
    {
     "data": {
      "text/plain": [
       "Ordinal Multinomial Model\n",
       "  * number of fixed effects: 3\n",
       "  * number of ordinal multinomial outcome categories: 4\n",
       "  * link function: LogitLink\n",
       "  * sample size: 5000"
      ]
     },
     "execution_count": 5,
     "metadata": {},
     "output_type": "execute_result"
    }
   ],
   "source": [
    "θ = [1.0, 1.2, 1.4]\n",
    "β_new = [1.0, 2.0, 10.0]\n",
    "Ordinal_Model = OrderedMultinomialTrait(X_new, β_new, θ, LogitLink())"
   ]
  },
  {
   "cell_type": "markdown",
   "metadata": {},
   "source": [
    "## `Power Calculation:`\n",
    "\n",
    "We use the following function to generate the p-values for the simulated power example for the ordered multinomial regression model. We range effect sizes in the vector γs, which collects effect sizes from 0 to 1 in increments of 0.05. As expected, the power increases as the effect size increases. \n",
    "    "
   ]
  },
  {
   "cell_type": "code",
   "execution_count": 6,
   "metadata": {},
   "outputs": [
    {
     "data": {
      "text/plain": [
       "11-element Array{Float64,1}:\n",
       " 0.0\n",
       " 0.05\n",
       " 0.1\n",
       " 0.15\n",
       " 0.2\n",
       " 0.25\n",
       " 0.3\n",
       " 0.35\n",
       " 0.4\n",
       " 0.45\n",
       " 0.5"
      ]
     },
     "execution_count": 6,
     "metadata": {},
     "output_type": "execute_result"
    }
   ],
   "source": [
    "γs = collect(0.0:0.05:0.5)"
   ]
  },
  {
   "cell_type": "markdown",
   "metadata": {},
   "source": [
    "For each effect size in $\\gamma_s,$ in each column we have the p-values obtained from testing the significance of the causal locus `nsim = 100` times under the ordinal multinomial model, `Ordinal_Model` and the `randomseed = 1234`. \n",
    "\n",
    "Each column of this matrix represents each of the detected effect sizes, and each row of this matrix represents each simulation for that effect size. The user feeds into the function the number of simulations, the vector of effect sizes, the TraitSimulation.jl model object, and the random seed."
   ]
  },
  {
   "cell_type": "code",
   "execution_count": 7,
   "metadata": {},
   "outputs": [
    {
     "data": {
      "text/html": [
       "<table class=\"data-frame\"><thead><tr><th></th><th>γs = 0.0</th><th>γs = 0.05</th><th>γs = 0.1</th><th>γs = 0.15</th><th>γs = 0.2</th><th>γs = 0.25</th><th>γs = 0.3</th></tr><tr><th></th><th>Float64</th><th>Float64</th><th>Float64</th><th>Float64</th><th>Float64</th><th>Float64</th><th>Float64</th></tr></thead><tbody><p>100 rows × 11 columns (omitted printing of 4 columns)</p><tr><th>1</th><td>0.0</td><td>0.855951</td><td>0.0187605</td><td>0.267769</td><td>0.000544026</td><td>0.000178373</td><td>1.17209e-7</td></tr><tr><th>2</th><td>0.80426</td><td>0.375294</td><td>0.0254699</td><td>2.14406e-6</td><td>0.00694345</td><td>0.000401022</td><td>1.47274e-6</td></tr><tr><th>3</th><td>0.887353</td><td>0.466531</td><td>0.191279</td><td>0.000266644</td><td>0.000645622</td><td>0.00018249</td><td>5.30302e-9</td></tr><tr><th>4</th><td>0.870309</td><td>0.288366</td><td>0.481541</td><td>0.00240987</td><td>0.000497305</td><td>2.20692e-5</td><td>4.58894e-9</td></tr><tr><th>5</th><td>0.702148</td><td>0.442054</td><td>0.0227104</td><td>0.0901567</td><td>3.1852e-7</td><td>1.66813e-5</td><td>3.92366e-7</td></tr><tr><th>6</th><td>0.37725</td><td>0.897537</td><td>0.00448512</td><td>0.000546661</td><td>0.0290945</td><td>5.57953e-6</td><td>6.14809e-7</td></tr><tr><th>7</th><td>0.339944</td><td>0.143922</td><td>0.000355107</td><td>0.0111154</td><td>2.54036e-6</td><td>2.32e-5</td><td>2.22174e-7</td></tr><tr><th>8</th><td>0.556582</td><td>0.181974</td><td>0.0226719</td><td>0.00460977</td><td>0.00282481</td><td>1.219e-5</td><td>7.01034e-10</td></tr><tr><th>9</th><td>0.986037</td><td>0.139655</td><td>0.716812</td><td>0.00559746</td><td>0.00584378</td><td>2.15591e-7</td><td>9.11782e-7</td></tr><tr><th>10</th><td>0.166381</td><td>0.0854048</td><td>0.127264</td><td>0.0132207</td><td>0.000340927</td><td>2.68904e-6</td><td>3.23038e-11</td></tr><tr><th>11</th><td>0.806642</td><td>0.565903</td><td>0.270616</td><td>0.00641935</td><td>7.90514e-6</td><td>6.42613e-7</td><td>1.88663e-6</td></tr><tr><th>12</th><td>0.638779</td><td>0.129509</td><td>0.000292037</td><td>0.00582939</td><td>0.000944956</td><td>5.50175e-5</td><td>1.33674e-9</td></tr><tr><th>13</th><td>0.493384</td><td>0.408438</td><td>0.00301078</td><td>0.0859278</td><td>1.76405e-8</td><td>0.0005247</td><td>1.50192e-9</td></tr><tr><th>14</th><td>0.295968</td><td>0.675203</td><td>0.00143859</td><td>4.86031e-8</td><td>1.01515e-5</td><td>5.25884e-8</td><td>2.04627e-6</td></tr><tr><th>15</th><td>0.0454075</td><td>0.98926</td><td>0.0451383</td><td>0.0931286</td><td>4.23275e-5</td><td>2.60921e-10</td><td>1.29269e-6</td></tr><tr><th>16</th><td>0.401417</td><td>0.197399</td><td>0.0264678</td><td>0.0167096</td><td>9.54767e-8</td><td>1.08779e-8</td><td>8.85696e-5</td></tr><tr><th>17</th><td>0.41411</td><td>0.314208</td><td>0.630561</td><td>0.000301117</td><td>1.36496e-8</td><td>1.09822e-8</td><td>1.59021e-7</td></tr><tr><th>18</th><td>0.266798</td><td>0.107697</td><td>0.0114303</td><td>0.00630757</td><td>0.0151981</td><td>4.19773e-5</td><td>5.61924e-10</td></tr><tr><th>19</th><td>0.0470747</td><td>0.292882</td><td>0.0144221</td><td>0.0003478</td><td>0.000241995</td><td>0.0636233</td><td>8.79406e-8</td></tr><tr><th>20</th><td>0.0908066</td><td>0.10101</td><td>0.0951194</td><td>0.00123862</td><td>5.3563e-5</td><td>2.39801e-9</td><td>1.75286e-6</td></tr><tr><th>21</th><td>0.850394</td><td>0.221669</td><td>0.000443884</td><td>0.0095655</td><td>0.000575951</td><td>2.40705e-6</td><td>5.01153e-7</td></tr><tr><th>22</th><td>0.399257</td><td>0.267143</td><td>0.0660705</td><td>0.0228476</td><td>0.00118329</td><td>3.00836e-5</td><td>2.28242e-11</td></tr><tr><th>23</th><td>0.21267</td><td>0.548676</td><td>0.303735</td><td>0.0548981</td><td>0.00660021</td><td>0.00807713</td><td>2.06976e-12</td></tr><tr><th>24</th><td>0.171082</td><td>0.0552186</td><td>0.815603</td><td>0.00859589</td><td>0.00385244</td><td>2.03581e-7</td><td>1.91338e-14</td></tr><tr><th>25</th><td>0.957177</td><td>0.420649</td><td>0.000224935</td><td>0.0204624</td><td>0.000849553</td><td>1.55599e-9</td><td>2.08403e-10</td></tr><tr><th>26</th><td>0.278863</td><td>0.0895142</td><td>0.152491</td><td>0.09689</td><td>0.0137848</td><td>7.47593e-6</td><td>2.13725e-6</td></tr><tr><th>27</th><td>0.0617831</td><td>0.0365512</td><td>0.0414001</td><td>0.0057588</td><td>0.000235067</td><td>0.000126471</td><td>1.10849e-5</td></tr><tr><th>28</th><td>0.410809</td><td>0.977933</td><td>0.613377</td><td>0.0241646</td><td>0.00720477</td><td>1.93818e-6</td><td>1.62983e-7</td></tr><tr><th>29</th><td>0.0707895</td><td>0.587196</td><td>0.0097155</td><td>0.000893174</td><td>0.000877422</td><td>0.000114895</td><td>1.70685e-6</td></tr><tr><th>30</th><td>0.258816</td><td>0.119126</td><td>0.00308337</td><td>0.000211079</td><td>0.000317717</td><td>7.42518e-7</td><td>3.32083e-6</td></tr><tr><th>&vellip;</th><td>&vellip;</td><td>&vellip;</td><td>&vellip;</td><td>&vellip;</td><td>&vellip;</td><td>&vellip;</td><td>&vellip;</td></tr></tbody></table>"
      ],
      "text/latex": [
       "\\begin{tabular}{r|cccccccc}\n",
       "\t& γs = 0.0 & γs = 0.05 & γs = 0.1 & γs = 0.15 & γs = 0.2 & γs = 0.25 & γs = 0.3 & \\\\\n",
       "\t\\hline\n",
       "\t& Float64 & Float64 & Float64 & Float64 & Float64 & Float64 & Float64 & \\\\\n",
       "\t\\hline\n",
       "\t1 & 0.0 & 0.855951 & 0.0187605 & 0.267769 & 0.000544026 & 0.000178373 & 1.17209e-7 & $\\dots$ \\\\\n",
       "\t2 & 0.80426 & 0.375294 & 0.0254699 & 2.14406e-6 & 0.00694345 & 0.000401022 & 1.47274e-6 & $\\dots$ \\\\\n",
       "\t3 & 0.887353 & 0.466531 & 0.191279 & 0.000266644 & 0.000645622 & 0.00018249 & 5.30302e-9 & $\\dots$ \\\\\n",
       "\t4 & 0.870309 & 0.288366 & 0.481541 & 0.00240987 & 0.000497305 & 2.20692e-5 & 4.58894e-9 & $\\dots$ \\\\\n",
       "\t5 & 0.702148 & 0.442054 & 0.0227104 & 0.0901567 & 3.1852e-7 & 1.66813e-5 & 3.92366e-7 & $\\dots$ \\\\\n",
       "\t6 & 0.37725 & 0.897537 & 0.00448512 & 0.000546661 & 0.0290945 & 5.57953e-6 & 6.14809e-7 & $\\dots$ \\\\\n",
       "\t7 & 0.339944 & 0.143922 & 0.000355107 & 0.0111154 & 2.54036e-6 & 2.32e-5 & 2.22174e-7 & $\\dots$ \\\\\n",
       "\t8 & 0.556582 & 0.181974 & 0.0226719 & 0.00460977 & 0.00282481 & 1.219e-5 & 7.01034e-10 & $\\dots$ \\\\\n",
       "\t9 & 0.986037 & 0.139655 & 0.716812 & 0.00559746 & 0.00584378 & 2.15591e-7 & 9.11782e-7 & $\\dots$ \\\\\n",
       "\t10 & 0.166381 & 0.0854048 & 0.127264 & 0.0132207 & 0.000340927 & 2.68904e-6 & 3.23038e-11 & $\\dots$ \\\\\n",
       "\t11 & 0.806642 & 0.565903 & 0.270616 & 0.00641935 & 7.90514e-6 & 6.42613e-7 & 1.88663e-6 & $\\dots$ \\\\\n",
       "\t12 & 0.638779 & 0.129509 & 0.000292037 & 0.00582939 & 0.000944956 & 5.50175e-5 & 1.33674e-9 & $\\dots$ \\\\\n",
       "\t13 & 0.493384 & 0.408438 & 0.00301078 & 0.0859278 & 1.76405e-8 & 0.0005247 & 1.50192e-9 & $\\dots$ \\\\\n",
       "\t14 & 0.295968 & 0.675203 & 0.00143859 & 4.86031e-8 & 1.01515e-5 & 5.25884e-8 & 2.04627e-6 & $\\dots$ \\\\\n",
       "\t15 & 0.0454075 & 0.98926 & 0.0451383 & 0.0931286 & 4.23275e-5 & 2.60921e-10 & 1.29269e-6 & $\\dots$ \\\\\n",
       "\t16 & 0.401417 & 0.197399 & 0.0264678 & 0.0167096 & 9.54767e-8 & 1.08779e-8 & 8.85696e-5 & $\\dots$ \\\\\n",
       "\t17 & 0.41411 & 0.314208 & 0.630561 & 0.000301117 & 1.36496e-8 & 1.09822e-8 & 1.59021e-7 & $\\dots$ \\\\\n",
       "\t18 & 0.266798 & 0.107697 & 0.0114303 & 0.00630757 & 0.0151981 & 4.19773e-5 & 5.61924e-10 & $\\dots$ \\\\\n",
       "\t19 & 0.0470747 & 0.292882 & 0.0144221 & 0.0003478 & 0.000241995 & 0.0636233 & 8.79406e-8 & $\\dots$ \\\\\n",
       "\t20 & 0.0908066 & 0.10101 & 0.0951194 & 0.00123862 & 5.3563e-5 & 2.39801e-9 & 1.75286e-6 & $\\dots$ \\\\\n",
       "\t21 & 0.850394 & 0.221669 & 0.000443884 & 0.0095655 & 0.000575951 & 2.40705e-6 & 5.01153e-7 & $\\dots$ \\\\\n",
       "\t22 & 0.399257 & 0.267143 & 0.0660705 & 0.0228476 & 0.00118329 & 3.00836e-5 & 2.28242e-11 & $\\dots$ \\\\\n",
       "\t23 & 0.21267 & 0.548676 & 0.303735 & 0.0548981 & 0.00660021 & 0.00807713 & 2.06976e-12 & $\\dots$ \\\\\n",
       "\t24 & 0.171082 & 0.0552186 & 0.815603 & 0.00859589 & 0.00385244 & 2.03581e-7 & 1.91338e-14 & $\\dots$ \\\\\n",
       "\t25 & 0.957177 & 0.420649 & 0.000224935 & 0.0204624 & 0.000849553 & 1.55599e-9 & 2.08403e-10 & $\\dots$ \\\\\n",
       "\t26 & 0.278863 & 0.0895142 & 0.152491 & 0.09689 & 0.0137848 & 7.47593e-6 & 2.13725e-6 & $\\dots$ \\\\\n",
       "\t27 & 0.0617831 & 0.0365512 & 0.0414001 & 0.0057588 & 0.000235067 & 0.000126471 & 1.10849e-5 & $\\dots$ \\\\\n",
       "\t28 & 0.410809 & 0.977933 & 0.613377 & 0.0241646 & 0.00720477 & 1.93818e-6 & 1.62983e-7 & $\\dots$ \\\\\n",
       "\t29 & 0.0707895 & 0.587196 & 0.0097155 & 0.000893174 & 0.000877422 & 0.000114895 & 1.70685e-6 & $\\dots$ \\\\\n",
       "\t30 & 0.258816 & 0.119126 & 0.00308337 & 0.000211079 & 0.000317717 & 7.42518e-7 & 3.32083e-6 & $\\dots$ \\\\\n",
       "\t$\\dots$ & $\\dots$ & $\\dots$ & $\\dots$ & $\\dots$ & $\\dots$ & $\\dots$ & $\\dots$ &  \\\\\n",
       "\\end{tabular}\n"
      ],
      "text/plain": [
       "100×11 DataFrame. Omitted printing of 6 columns\n",
       "│ Row │ γs = 0.0  │ γs = 0.05  │ γs = 0.1    │ γs = 0.15   │ γs = 0.2    │\n",
       "│     │ \u001b[90mFloat64\u001b[39m   │ \u001b[90mFloat64\u001b[39m    │ \u001b[90mFloat64\u001b[39m     │ \u001b[90mFloat64\u001b[39m     │ \u001b[90mFloat64\u001b[39m     │\n",
       "├─────┼───────────┼────────────┼─────────────┼─────────────┼─────────────┤\n",
       "│ 1   │ 0.0       │ 0.855951   │ 0.0187605   │ 0.267769    │ 0.000544026 │\n",
       "│ 2   │ 0.80426   │ 0.375294   │ 0.0254699   │ 2.14406e-6  │ 0.00694345  │\n",
       "│ 3   │ 0.887353  │ 0.466531   │ 0.191279    │ 0.000266644 │ 0.000645622 │\n",
       "│ 4   │ 0.870309  │ 0.288366   │ 0.481541    │ 0.00240987  │ 0.000497305 │\n",
       "│ 5   │ 0.702148  │ 0.442054   │ 0.0227104   │ 0.0901567   │ 3.1852e-7   │\n",
       "│ 6   │ 0.37725   │ 0.897537   │ 0.00448512  │ 0.000546661 │ 0.0290945   │\n",
       "│ 7   │ 0.339944  │ 0.143922   │ 0.000355107 │ 0.0111154   │ 2.54036e-6  │\n",
       "│ 8   │ 0.556582  │ 0.181974   │ 0.0226719   │ 0.00460977  │ 0.00282481  │\n",
       "│ 9   │ 0.986037  │ 0.139655   │ 0.716812    │ 0.00559746  │ 0.00584378  │\n",
       "│ 10  │ 0.166381  │ 0.0854048  │ 0.127264    │ 0.0132207   │ 0.000340927 │\n",
       "⋮\n",
       "│ 90  │ 0.872492  │ 0.0913922  │ 0.111262    │ 0.0496577   │ 0.000399075 │\n",
       "│ 91  │ 0.0751196 │ 0.824718   │ 0.00986993  │ 7.01008e-5  │ 0.000822731 │\n",
       "│ 92  │ 0.0511631 │ 0.0958969  │ 0.0217876   │ 0.0257414   │ 0.00179784  │\n",
       "│ 93  │ 0.325841  │ 0.735407   │ 0.0125782   │ 0.000835569 │ 2.4234e-7   │\n",
       "│ 94  │ 0.0368789 │ 0.00384364 │ 0.0986941   │ 0.0240558   │ 0.013597    │\n",
       "│ 95  │ 0.826389  │ 0.564876   │ 0.00630337  │ 0.0131487   │ 3.94295e-5  │\n",
       "│ 96  │ 0.973518  │ 0.0884321  │ 0.0587808   │ 0.00740646  │ 0.00182443  │\n",
       "│ 97  │ 0.611996  │ 0.594305   │ 0.0895491   │ 0.00418233  │ 0.00123163  │\n",
       "│ 98  │ 0.400585  │ 0.256106   │ 0.237576    │ 0.182269    │ 0.0049176   │\n",
       "│ 99  │ 0.605901  │ 0.0435348  │ 0.120437    │ 0.00106702  │ 0.00126633  │\n",
       "│ 100 │ 0.389074  │ 0.679611   │ 0.060063    │ 0.00362952  │ 4.47884e-5  │"
      ]
     },
     "execution_count": 7,
     "metadata": {},
     "output_type": "execute_result"
    }
   ],
   "source": [
    "nsim = 100\n",
    "randomseed = 1234\n",
    "simulated_pvalues = power_simulation(nsim, γs, Ordinal_Model, randomseed)\n",
    "\n",
    "rename!(DataFrame(simulated_pvalues), [Symbol(\"γs = $(γs[i])\") for i in 1:length(γs)])"
   ]
  },
  {
   "cell_type": "markdown",
   "metadata": {},
   "source": [
    "Note that for GLMTrait objects, the `realistic_power_simulation` function makes the appropriate calls to the GLM.jl package to get the simulation p-values obtained from testing the significance of the causal locus using the Wald Test by default. However since the GLM.jl package has its limitations, we include additional power utilities that make the appropriate function calls to the [OrdinalMultinomialModels](https://openmendel.github.io/OrdinalMultinomialModels.jl/stable/#Syntax-1) to get the p-value obtained from testing the significance of the causal locus."
   ]
  },
  {
   "cell_type": "markdown",
   "metadata": {},
   "source": [
    "Now we find the power of each effect size in the user-specified γs vector at the specified alpha level of significance, and plot the trajectory using the Plots.jl package."
   ]
  },
  {
   "cell_type": "code",
   "execution_count": 8,
   "metadata": {
    "scrolled": true
   },
   "outputs": [
    {
     "data": {
      "text/plain": [
       "11-element Array{Float64,1}:\n",
       " 0.01\n",
       " 0.0\n",
       " 0.0\n",
       " 0.01\n",
       " 0.02\n",
       " 0.12\n",
       " 0.47\n",
       " 0.72\n",
       " 0.93\n",
       " 1.0\n",
       " 1.0"
      ]
     },
     "execution_count": 8,
     "metadata": {},
     "output_type": "execute_result"
    }
   ],
   "source": [
    "α = 5*10^-8\n",
    "power_effectsize = power(simulated_pvalues, α)"
   ]
  },
  {
   "cell_type": "code",
   "execution_count": 9,
   "metadata": {},
   "outputs": [
    {
     "data": {
      "image/svg+xml": [
       "<?xml version=\"1.0\" encoding=\"utf-8\"?>\n",
       "<svg xmlns=\"http://www.w3.org/2000/svg\" xmlns:xlink=\"http://www.w3.org/1999/xlink\" width=\"600\" height=\"400\" viewBox=\"0 0 2400 1600\">\n",
       "<defs>\n",
       "  <clipPath id=\"clip530\">\n",
       "    <rect x=\"0\" y=\"0\" width=\"2400\" height=\"1600\"/>\n",
       "  </clipPath>\n",
       "</defs>\n",
       "<path clip-path=\"url(#clip530)\" d=\"\n",
       "M0 1600 L2400 1600 L2400 0 L0 0  Z\n",
       "  \" fill=\"#ffffff\" fill-rule=\"evenodd\" fill-opacity=\"1\"/>\n",
       "<defs>\n",
       "  <clipPath id=\"clip531\">\n",
       "    <rect x=\"480\" y=\"0\" width=\"1681\" height=\"1600\"/>\n",
       "  </clipPath>\n",
       "</defs>\n",
       "<path clip-path=\"url(#clip530)\" d=\"\n",
       "M174.862 1423.18 L2352.76 1423.18 L2352.76 123.472 L174.862 123.472  Z\n",
       "  \" fill=\"#ffffff\" fill-rule=\"evenodd\" fill-opacity=\"1\"/>\n",
       "<defs>\n",
       "  <clipPath id=\"clip532\">\n",
       "    <rect x=\"174\" y=\"123\" width=\"2179\" height=\"1301\"/>\n",
       "  </clipPath>\n",
       "</defs>\n",
       "<polyline clip-path=\"url(#clip532)\" style=\"stroke:#000000; stroke-width:2; stroke-opacity:0.1; fill:none\" points=\"\n",
       "  236.501,1423.18 236.501,123.472 \n",
       "  \"/>\n",
       "<polyline clip-path=\"url(#clip532)\" style=\"stroke:#000000; stroke-width:2; stroke-opacity:0.1; fill:none\" points=\"\n",
       "  647.424,1423.18 647.424,123.472 \n",
       "  \"/>\n",
       "<polyline clip-path=\"url(#clip532)\" style=\"stroke:#000000; stroke-width:2; stroke-opacity:0.1; fill:none\" points=\"\n",
       "  1058.35,1423.18 1058.35,123.472 \n",
       "  \"/>\n",
       "<polyline clip-path=\"url(#clip532)\" style=\"stroke:#000000; stroke-width:2; stroke-opacity:0.1; fill:none\" points=\"\n",
       "  1469.27,1423.18 1469.27,123.472 \n",
       "  \"/>\n",
       "<polyline clip-path=\"url(#clip532)\" style=\"stroke:#000000; stroke-width:2; stroke-opacity:0.1; fill:none\" points=\"\n",
       "  1880.19,1423.18 1880.19,123.472 \n",
       "  \"/>\n",
       "<polyline clip-path=\"url(#clip532)\" style=\"stroke:#000000; stroke-width:2; stroke-opacity:0.1; fill:none\" points=\"\n",
       "  2291.12,1423.18 2291.12,123.472 \n",
       "  \"/>\n",
       "<polyline clip-path=\"url(#clip532)\" style=\"stroke:#000000; stroke-width:2; stroke-opacity:0.1; fill:none\" points=\"\n",
       "  174.862,1386.4 2352.76,1386.4 \n",
       "  \"/>\n",
       "<polyline clip-path=\"url(#clip532)\" style=\"stroke:#000000; stroke-width:2; stroke-opacity:0.1; fill:none\" points=\"\n",
       "  174.862,1079.86 2352.76,1079.86 \n",
       "  \"/>\n",
       "<polyline clip-path=\"url(#clip532)\" style=\"stroke:#000000; stroke-width:2; stroke-opacity:0.1; fill:none\" points=\"\n",
       "  174.862,773.326 2352.76,773.326 \n",
       "  \"/>\n",
       "<polyline clip-path=\"url(#clip532)\" style=\"stroke:#000000; stroke-width:2; stroke-opacity:0.1; fill:none\" points=\"\n",
       "  174.862,466.791 2352.76,466.791 \n",
       "  \"/>\n",
       "<polyline clip-path=\"url(#clip532)\" style=\"stroke:#000000; stroke-width:2; stroke-opacity:0.1; fill:none\" points=\"\n",
       "  174.862,160.256 2352.76,160.256 \n",
       "  \"/>\n",
       "<polyline clip-path=\"url(#clip530)\" style=\"stroke:#000000; stroke-width:4; stroke-opacity:1; fill:none\" points=\"\n",
       "  174.862,1423.18 2352.76,1423.18 \n",
       "  \"/>\n",
       "<polyline clip-path=\"url(#clip530)\" style=\"stroke:#000000; stroke-width:4; stroke-opacity:1; fill:none\" points=\"\n",
       "  174.862,1423.18 174.862,123.472 \n",
       "  \"/>\n",
       "<polyline clip-path=\"url(#clip530)\" style=\"stroke:#000000; stroke-width:4; stroke-opacity:1; fill:none\" points=\"\n",
       "  236.501,1423.18 236.501,1407.58 \n",
       "  \"/>\n",
       "<polyline clip-path=\"url(#clip530)\" style=\"stroke:#000000; stroke-width:4; stroke-opacity:1; fill:none\" points=\"\n",
       "  647.424,1423.18 647.424,1407.58 \n",
       "  \"/>\n",
       "<polyline clip-path=\"url(#clip530)\" style=\"stroke:#000000; stroke-width:4; stroke-opacity:1; fill:none\" points=\"\n",
       "  1058.35,1423.18 1058.35,1407.58 \n",
       "  \"/>\n",
       "<polyline clip-path=\"url(#clip530)\" style=\"stroke:#000000; stroke-width:4; stroke-opacity:1; fill:none\" points=\"\n",
       "  1469.27,1423.18 1469.27,1407.58 \n",
       "  \"/>\n",
       "<polyline clip-path=\"url(#clip530)\" style=\"stroke:#000000; stroke-width:4; stroke-opacity:1; fill:none\" points=\"\n",
       "  1880.19,1423.18 1880.19,1407.58 \n",
       "  \"/>\n",
       "<polyline clip-path=\"url(#clip530)\" style=\"stroke:#000000; stroke-width:4; stroke-opacity:1; fill:none\" points=\"\n",
       "  2291.12,1423.18 2291.12,1407.58 \n",
       "  \"/>\n",
       "<polyline clip-path=\"url(#clip530)\" style=\"stroke:#000000; stroke-width:4; stroke-opacity:1; fill:none\" points=\"\n",
       "  174.862,1386.4 200.997,1386.4 \n",
       "  \"/>\n",
       "<polyline clip-path=\"url(#clip530)\" style=\"stroke:#000000; stroke-width:4; stroke-opacity:1; fill:none\" points=\"\n",
       "  174.862,1079.86 200.997,1079.86 \n",
       "  \"/>\n",
       "<polyline clip-path=\"url(#clip530)\" style=\"stroke:#000000; stroke-width:4; stroke-opacity:1; fill:none\" points=\"\n",
       "  174.862,773.326 200.997,773.326 \n",
       "  \"/>\n",
       "<polyline clip-path=\"url(#clip530)\" style=\"stroke:#000000; stroke-width:4; stroke-opacity:1; fill:none\" points=\"\n",
       "  174.862,466.791 200.997,466.791 \n",
       "  \"/>\n",
       "<polyline clip-path=\"url(#clip530)\" style=\"stroke:#000000; stroke-width:4; stroke-opacity:1; fill:none\" points=\"\n",
       "  174.862,160.256 200.997,160.256 \n",
       "  \"/>\n",
       "<path clip-path=\"url(#clip530)\" d=\"M 0 0 M218.017 1445.17 Q214.406 1445.17 212.577 1448.74 Q210.772 1452.28 210.772 1459.41 Q210.772 1466.51 212.577 1470.08 Q214.406 1473.62 218.017 1473.62 Q221.651 1473.62 223.457 1470.08 Q225.285 1466.51 225.285 1459.41 Q225.285 1452.28 223.457 1448.74 Q221.651 1445.17 218.017 1445.17 M218.017 1441.47 Q223.827 1441.47 226.883 1446.07 Q229.961 1450.66 229.961 1459.41 Q229.961 1468.13 226.883 1472.74 Q223.827 1477.32 218.017 1477.32 Q212.207 1477.32 209.128 1472.74 Q206.072 1468.13 206.072 1459.41 Q206.072 1450.66 209.128 1446.07 Q212.207 1441.47 218.017 1441.47 Z\" fill=\"#000000\" fill-rule=\"evenodd\" fill-opacity=\"1\" /><path clip-path=\"url(#clip530)\" d=\"M 0 0 M235.031 1470.77 L239.915 1470.77 L239.915 1476.65 L235.031 1476.65 L235.031 1470.77 Z\" fill=\"#000000\" fill-rule=\"evenodd\" fill-opacity=\"1\" /><path clip-path=\"url(#clip530)\" d=\"M 0 0 M254.984 1445.17 Q251.373 1445.17 249.544 1448.74 Q247.739 1452.28 247.739 1459.41 Q247.739 1466.51 249.544 1470.08 Q251.373 1473.62 254.984 1473.62 Q258.618 1473.62 260.424 1470.08 Q262.253 1466.51 262.253 1459.41 Q262.253 1452.28 260.424 1448.74 Q258.618 1445.17 254.984 1445.17 M254.984 1441.47 Q260.794 1441.47 263.85 1446.07 Q266.929 1450.66 266.929 1459.41 Q266.929 1468.13 263.85 1472.74 Q260.794 1477.32 254.984 1477.32 Q249.174 1477.32 246.095 1472.74 Q243.04 1468.13 243.04 1459.41 Q243.04 1450.66 246.095 1446.07 Q249.174 1441.47 254.984 1441.47 Z\" fill=\"#000000\" fill-rule=\"evenodd\" fill-opacity=\"1\" /><path clip-path=\"url(#clip530)\" d=\"M 0 0 M629.554 1445.17 Q625.943 1445.17 624.114 1448.74 Q622.308 1452.28 622.308 1459.41 Q622.308 1466.51 624.114 1470.08 Q625.943 1473.62 629.554 1473.62 Q633.188 1473.62 634.993 1470.08 Q636.822 1466.51 636.822 1459.41 Q636.822 1452.28 634.993 1448.74 Q633.188 1445.17 629.554 1445.17 M629.554 1441.47 Q635.364 1441.47 638.419 1446.07 Q641.498 1450.66 641.498 1459.41 Q641.498 1468.13 638.419 1472.74 Q635.364 1477.32 629.554 1477.32 Q623.743 1477.32 620.665 1472.74 Q617.609 1468.13 617.609 1459.41 Q617.609 1450.66 620.665 1446.07 Q623.743 1441.47 629.554 1441.47 Z\" fill=\"#000000\" fill-rule=\"evenodd\" fill-opacity=\"1\" /><path clip-path=\"url(#clip530)\" d=\"M 0 0 M646.567 1470.77 L651.452 1470.77 L651.452 1476.65 L646.567 1476.65 L646.567 1470.77 Z\" fill=\"#000000\" fill-rule=\"evenodd\" fill-opacity=\"1\" /><path clip-path=\"url(#clip530)\" d=\"M 0 0 M657.331 1472.72 L664.97 1472.72 L664.97 1446.35 L656.66 1448.02 L656.66 1443.76 L664.924 1442.09 L669.6 1442.09 L669.6 1472.72 L677.239 1472.72 L677.239 1476.65 L657.331 1476.65 L657.331 1472.72 Z\" fill=\"#000000\" fill-rule=\"evenodd\" fill-opacity=\"1\" /><path clip-path=\"url(#clip530)\" d=\"M 0 0 M1040.66 1445.17 Q1037.05 1445.17 1035.22 1448.74 Q1033.42 1452.28 1033.42 1459.41 Q1033.42 1466.51 1035.22 1470.08 Q1037.05 1473.62 1040.66 1473.62 Q1044.3 1473.62 1046.1 1470.08 Q1047.93 1466.51 1047.93 1459.41 Q1047.93 1452.28 1046.1 1448.74 Q1044.3 1445.17 1040.66 1445.17 M1040.66 1441.47 Q1046.47 1441.47 1049.53 1446.07 Q1052.61 1450.66 1052.61 1459.41 Q1052.61 1468.13 1049.53 1472.74 Q1046.47 1477.32 1040.66 1477.32 Q1034.85 1477.32 1031.77 1472.74 Q1028.72 1468.13 1028.72 1459.41 Q1028.72 1450.66 1031.77 1446.07 Q1034.85 1441.47 1040.66 1441.47 Z\" fill=\"#000000\" fill-rule=\"evenodd\" fill-opacity=\"1\" /><path clip-path=\"url(#clip530)\" d=\"M 0 0 M1057.68 1470.77 L1062.56 1470.77 L1062.56 1476.65 L1057.68 1476.65 L1057.68 1470.77 Z\" fill=\"#000000\" fill-rule=\"evenodd\" fill-opacity=\"1\" /><path clip-path=\"url(#clip530)\" d=\"M 0 0 M1071.66 1472.72 L1087.98 1472.72 L1087.98 1476.65 L1066.03 1476.65 L1066.03 1472.72 Q1068.69 1469.96 1073.28 1465.33 Q1077.88 1460.68 1079.06 1459.34 Q1081.31 1456.81 1082.19 1455.08 Q1083.09 1453.32 1083.09 1451.63 Q1083.09 1448.87 1081.15 1447.14 Q1079.23 1445.4 1076.12 1445.4 Q1073.93 1445.4 1071.47 1446.17 Q1069.04 1446.93 1066.26 1448.48 L1066.26 1443.76 Q1069.09 1442.62 1071.54 1442.05 Q1074 1441.47 1076.03 1441.47 Q1081.4 1441.47 1084.6 1444.15 Q1087.79 1446.84 1087.79 1451.33 Q1087.79 1453.46 1086.98 1455.38 Q1086.19 1457.28 1084.09 1459.87 Q1083.51 1460.54 1080.41 1463.76 Q1077.31 1466.95 1071.66 1472.72 Z\" fill=\"#000000\" fill-rule=\"evenodd\" fill-opacity=\"1\" /><path clip-path=\"url(#clip530)\" d=\"M 0 0 M1451.11 1445.17 Q1447.5 1445.17 1445.67 1448.74 Q1443.87 1452.28 1443.87 1459.41 Q1443.87 1466.51 1445.67 1470.08 Q1447.5 1473.62 1451.11 1473.62 Q1454.75 1473.62 1456.55 1470.08 Q1458.38 1466.51 1458.38 1459.41 Q1458.38 1452.28 1456.55 1448.74 Q1454.75 1445.17 1451.11 1445.17 M1451.11 1441.47 Q1456.92 1441.47 1459.98 1446.07 Q1463.06 1450.66 1463.06 1459.41 Q1463.06 1468.13 1459.98 1472.74 Q1456.92 1477.32 1451.11 1477.32 Q1445.3 1477.32 1442.22 1472.74 Q1439.17 1468.13 1439.17 1459.41 Q1439.17 1450.66 1442.22 1446.07 Q1445.3 1441.47 1451.11 1441.47 Z\" fill=\"#000000\" fill-rule=\"evenodd\" fill-opacity=\"1\" /><path clip-path=\"url(#clip530)\" d=\"M 0 0 M1468.12 1470.77 L1473.01 1470.77 L1473.01 1476.65 L1468.12 1476.65 L1468.12 1470.77 Z\" fill=\"#000000\" fill-rule=\"evenodd\" fill-opacity=\"1\" /><path clip-path=\"url(#clip530)\" d=\"M 0 0 M1492.25 1458.02 Q1495.6 1458.74 1497.48 1461 Q1499.37 1463.27 1499.37 1466.61 Q1499.37 1471.72 1495.86 1474.52 Q1492.34 1477.32 1485.86 1477.32 Q1483.68 1477.32 1481.37 1476.88 Q1479.07 1476.47 1476.62 1475.61 L1476.62 1471.1 Q1478.56 1472.23 1480.88 1472.81 Q1483.19 1473.39 1485.72 1473.39 Q1490.12 1473.39 1492.41 1471.65 Q1494.72 1469.92 1494.72 1466.61 Q1494.72 1463.55 1492.57 1461.84 Q1490.44 1460.1 1486.62 1460.1 L1482.59 1460.1 L1482.59 1456.26 L1486.81 1456.26 Q1490.25 1456.26 1492.08 1454.89 Q1493.91 1453.5 1493.91 1450.91 Q1493.91 1448.25 1492.01 1446.84 Q1490.14 1445.4 1486.62 1445.4 Q1484.7 1445.4 1482.5 1445.82 Q1480.3 1446.24 1477.66 1447.11 L1477.66 1442.95 Q1480.32 1442.21 1482.64 1441.84 Q1484.98 1441.47 1487.04 1441.47 Q1492.36 1441.47 1495.46 1443.9 Q1498.56 1446.3 1498.56 1450.43 Q1498.56 1453.3 1496.92 1455.29 Q1495.28 1457.25 1492.25 1458.02 Z\" fill=\"#000000\" fill-rule=\"evenodd\" fill-opacity=\"1\" /><path clip-path=\"url(#clip530)\" d=\"M 0 0 M1861.47 1445.17 Q1857.86 1445.17 1856.03 1448.74 Q1854.22 1452.28 1854.22 1459.41 Q1854.22 1466.51 1856.03 1470.08 Q1857.86 1473.62 1861.47 1473.62 Q1865.1 1473.62 1866.91 1470.08 Q1868.74 1466.51 1868.74 1459.41 Q1868.74 1452.28 1866.91 1448.74 Q1865.1 1445.17 1861.47 1445.17 M1861.47 1441.47 Q1867.28 1441.47 1870.33 1446.07 Q1873.41 1450.66 1873.41 1459.41 Q1873.41 1468.13 1870.33 1472.74 Q1867.28 1477.32 1861.47 1477.32 Q1855.66 1477.32 1852.58 1472.74 Q1849.52 1468.13 1849.52 1459.41 Q1849.52 1450.66 1852.58 1446.07 Q1855.66 1441.47 1861.47 1441.47 Z\" fill=\"#000000\" fill-rule=\"evenodd\" fill-opacity=\"1\" /><path clip-path=\"url(#clip530)\" d=\"M 0 0 M1878.48 1470.77 L1883.37 1470.77 L1883.37 1476.65 L1878.48 1476.65 L1878.48 1470.77 Z\" fill=\"#000000\" fill-rule=\"evenodd\" fill-opacity=\"1\" /><path clip-path=\"url(#clip530)\" d=\"M 0 0 M1901.28 1446.17 L1889.48 1464.61 L1901.28 1464.61 L1901.28 1446.17 M1900.06 1442.09 L1905.93 1442.09 L1905.93 1464.61 L1910.87 1464.61 L1910.87 1468.5 L1905.93 1468.5 L1905.93 1476.65 L1901.28 1476.65 L1901.28 1468.5 L1885.68 1468.5 L1885.68 1463.99 L1900.06 1442.09 Z\" fill=\"#000000\" fill-rule=\"evenodd\" fill-opacity=\"1\" /><path clip-path=\"url(#clip530)\" d=\"M 0 0 M2273.13 1445.17 Q2269.52 1445.17 2267.69 1448.74 Q2265.89 1452.28 2265.89 1459.41 Q2265.89 1466.51 2267.69 1470.08 Q2269.52 1473.62 2273.13 1473.62 Q2276.77 1473.62 2278.57 1470.08 Q2280.4 1466.51 2280.4 1459.41 Q2280.4 1452.28 2278.57 1448.74 Q2276.77 1445.17 2273.13 1445.17 M2273.13 1441.47 Q2278.94 1441.47 2282 1446.07 Q2285.08 1450.66 2285.08 1459.41 Q2285.08 1468.13 2282 1472.74 Q2278.94 1477.32 2273.13 1477.32 Q2267.32 1477.32 2264.24 1472.74 Q2261.19 1468.13 2261.19 1459.41 Q2261.19 1450.66 2264.24 1446.07 Q2267.32 1441.47 2273.13 1441.47 Z\" fill=\"#000000\" fill-rule=\"evenodd\" fill-opacity=\"1\" /><path clip-path=\"url(#clip530)\" d=\"M 0 0 M2290.15 1470.77 L2295.03 1470.77 L2295.03 1476.65 L2290.15 1476.65 L2290.15 1470.77 Z\" fill=\"#000000\" fill-rule=\"evenodd\" fill-opacity=\"1\" /><path clip-path=\"url(#clip530)\" d=\"M 0 0 M2300.15 1442.09 L2318.5 1442.09 L2318.5 1446.03 L2304.43 1446.03 L2304.43 1454.5 Q2305.45 1454.15 2306.46 1453.99 Q2307.48 1453.8 2308.5 1453.8 Q2314.29 1453.8 2317.67 1456.98 Q2321.05 1460.15 2321.05 1465.56 Q2321.05 1471.14 2317.58 1474.24 Q2314.1 1477.32 2307.78 1477.32 Q2305.61 1477.32 2303.34 1476.95 Q2301.09 1476.58 2298.69 1475.84 L2298.69 1471.14 Q2300.77 1472.28 2302.99 1472.83 Q2305.21 1473.39 2307.69 1473.39 Q2311.7 1473.39 2314.03 1471.28 Q2316.37 1469.18 2316.37 1465.56 Q2316.37 1461.95 2314.03 1459.85 Q2311.7 1457.74 2307.69 1457.74 Q2305.82 1457.74 2303.94 1458.16 Q2302.09 1458.57 2300.15 1459.45 L2300.15 1442.09 Z\" fill=\"#000000\" fill-rule=\"evenodd\" fill-opacity=\"1\" /><path clip-path=\"url(#clip530)\" d=\"M 0 0 M74.9365 1372.19 Q71.3254 1372.19 69.4967 1375.76 Q67.6912 1379.3 67.6912 1386.43 Q67.6912 1393.54 69.4967 1397.1 Q71.3254 1400.64 74.9365 1400.64 Q78.5707 1400.64 80.3763 1397.1 Q82.205 1393.54 82.205 1386.43 Q82.205 1379.3 80.3763 1375.76 Q78.5707 1372.19 74.9365 1372.19 M74.9365 1368.49 Q80.7467 1368.49 83.8022 1373.1 Q86.8809 1377.68 86.8809 1386.43 Q86.8809 1395.16 83.8022 1399.76 Q80.7467 1404.35 74.9365 1404.35 Q69.1264 1404.35 66.0477 1399.76 Q62.9921 1395.16 62.9921 1386.43 Q62.9921 1377.68 66.0477 1373.1 Q69.1264 1368.49 74.9365 1368.49 Z\" fill=\"#000000\" fill-rule=\"evenodd\" fill-opacity=\"1\" /><path clip-path=\"url(#clip530)\" d=\"M 0 0 M91.9503 1397.8 L96.8345 1397.8 L96.8345 1403.68 L91.9503 1403.68 L91.9503 1397.8 Z\" fill=\"#000000\" fill-rule=\"evenodd\" fill-opacity=\"1\" /><path clip-path=\"url(#clip530)\" d=\"M 0 0 M111.904 1372.19 Q108.293 1372.19 106.464 1375.76 Q104.659 1379.3 104.659 1386.43 Q104.659 1393.54 106.464 1397.1 Q108.293 1400.64 111.904 1400.64 Q115.538 1400.64 117.344 1397.1 Q119.172 1393.54 119.172 1386.43 Q119.172 1379.3 117.344 1375.76 Q115.538 1372.19 111.904 1372.19 M111.904 1368.49 Q117.714 1368.49 120.77 1373.1 Q123.848 1377.68 123.848 1386.43 Q123.848 1395.16 120.77 1399.76 Q117.714 1404.35 111.904 1404.35 Q106.094 1404.35 103.015 1399.76 Q99.9595 1395.16 99.9595 1386.43 Q99.9595 1377.68 103.015 1373.1 Q106.094 1368.49 111.904 1368.49 Z\" fill=\"#000000\" fill-rule=\"evenodd\" fill-opacity=\"1\" /><path clip-path=\"url(#clip530)\" d=\"M 0 0 M138.918 1372.19 Q135.307 1372.19 133.478 1375.76 Q131.672 1379.3 131.672 1386.43 Q131.672 1393.54 133.478 1397.1 Q135.307 1400.64 138.918 1400.64 Q142.552 1400.64 144.357 1397.1 Q146.186 1393.54 146.186 1386.43 Q146.186 1379.3 144.357 1375.76 Q142.552 1372.19 138.918 1372.19 M138.918 1368.49 Q144.728 1368.49 147.783 1373.1 Q150.862 1377.68 150.862 1386.43 Q150.862 1395.16 147.783 1399.76 Q144.728 1404.35 138.918 1404.35 Q133.107 1404.35 130.029 1399.76 Q126.973 1395.16 126.973 1386.43 Q126.973 1377.68 130.029 1373.1 Q133.107 1368.49 138.918 1368.49 Z\" fill=\"#000000\" fill-rule=\"evenodd\" fill-opacity=\"1\" /><path clip-path=\"url(#clip530)\" d=\"M 0 0 M77.5291 1065.66 Q73.918 1065.66 72.0893 1069.22 Q70.2838 1072.77 70.2838 1079.9 Q70.2838 1087 72.0893 1090.57 Q73.918 1094.11 77.5291 1094.11 Q81.1633 1094.11 82.9689 1090.57 Q84.7976 1087 84.7976 1079.9 Q84.7976 1072.77 82.9689 1069.22 Q81.1633 1065.66 77.5291 1065.66 M77.5291 1061.96 Q83.3392 1061.96 86.3948 1066.56 Q89.4735 1071.15 89.4735 1079.9 Q89.4735 1088.62 86.3948 1093.23 Q83.3392 1097.81 77.5291 1097.81 Q71.7189 1097.81 68.6402 1093.23 Q65.5847 1088.62 65.5847 1079.9 Q65.5847 1071.15 68.6402 1066.56 Q71.7189 1061.96 77.5291 1061.96 Z\" fill=\"#000000\" fill-rule=\"evenodd\" fill-opacity=\"1\" /><path clip-path=\"url(#clip530)\" d=\"M 0 0 M94.5429 1091.26 L99.4271 1091.26 L99.4271 1097.14 L94.5429 1097.14 L94.5429 1091.26 Z\" fill=\"#000000\" fill-rule=\"evenodd\" fill-opacity=\"1\" /><path clip-path=\"url(#clip530)\" d=\"M 0 0 M108.524 1093.21 L124.844 1093.21 L124.844 1097.14 L102.899 1097.14 L102.899 1093.21 Q105.561 1090.45 110.145 1085.82 Q114.751 1081.17 115.932 1079.83 Q118.177 1077.3 119.057 1075.57 Q119.959 1073.81 119.959 1072.12 Q119.959 1069.36 118.015 1067.63 Q116.094 1065.89 112.992 1065.89 Q110.793 1065.89 108.339 1066.65 Q105.909 1067.42 103.131 1068.97 L103.131 1064.25 Q105.955 1063.11 108.409 1062.53 Q110.862 1061.96 112.899 1061.96 Q118.27 1061.96 121.464 1064.64 Q124.658 1067.33 124.658 1071.82 Q124.658 1073.95 123.848 1075.87 Q123.061 1077.77 120.955 1080.36 Q120.376 1081.03 117.274 1084.25 Q114.172 1087.44 108.524 1093.21 Z\" fill=\"#000000\" fill-rule=\"evenodd\" fill-opacity=\"1\" /><path clip-path=\"url(#clip530)\" d=\"M 0 0 M129.959 1062.58 L148.316 1062.58 L148.316 1066.52 L134.242 1066.52 L134.242 1074.99 Q135.26 1074.64 136.279 1074.48 Q137.297 1074.29 138.316 1074.29 Q144.103 1074.29 147.482 1077.47 Q150.862 1080.64 150.862 1086.05 Q150.862 1091.63 147.39 1094.73 Q143.918 1097.81 137.598 1097.81 Q135.422 1097.81 133.154 1097.44 Q130.908 1097.07 128.501 1096.33 L128.501 1091.63 Q130.584 1092.77 132.807 1093.32 Q135.029 1093.88 137.506 1093.88 Q141.51 1093.88 143.848 1091.77 Q146.186 1089.66 146.186 1086.05 Q146.186 1082.44 143.848 1080.34 Q141.51 1078.23 137.506 1078.23 Q135.631 1078.23 133.756 1078.65 Q131.904 1079.06 129.959 1079.94 L129.959 1062.58 Z\" fill=\"#000000\" fill-rule=\"evenodd\" fill-opacity=\"1\" /><path clip-path=\"url(#clip530)\" d=\"M 0 0 M75.9319 759.125 Q72.3208 759.125 70.4921 762.689 Q68.6865 766.231 68.6865 773.361 Q68.6865 780.467 70.4921 784.032 Q72.3208 787.574 75.9319 787.574 Q79.5661 787.574 81.3717 784.032 Q83.2004 780.467 83.2004 773.361 Q83.2004 766.231 81.3717 762.689 Q79.5661 759.125 75.9319 759.125 M75.9319 755.421 Q81.742 755.421 84.7976 760.027 Q87.8763 764.611 87.8763 773.361 Q87.8763 782.088 84.7976 786.694 Q81.742 791.277 75.9319 791.277 Q70.1217 791.277 67.043 786.694 Q63.9875 782.088 63.9875 773.361 Q63.9875 764.611 67.043 760.027 Q70.1217 755.421 75.9319 755.421 Z\" fill=\"#000000\" fill-rule=\"evenodd\" fill-opacity=\"1\" /><path clip-path=\"url(#clip530)\" d=\"M 0 0 M92.9457 784.726 L97.8299 784.726 L97.8299 790.606 L92.9457 790.606 L92.9457 784.726 Z\" fill=\"#000000\" fill-rule=\"evenodd\" fill-opacity=\"1\" /><path clip-path=\"url(#clip530)\" d=\"M 0 0 M102.946 756.046 L121.302 756.046 L121.302 759.981 L107.228 759.981 L107.228 768.453 Q108.247 768.106 109.265 767.944 Q110.284 767.759 111.302 767.759 Q117.089 767.759 120.469 770.93 Q123.848 774.101 123.848 779.518 Q123.848 785.097 120.376 788.199 Q116.904 791.277 110.584 791.277 Q108.409 791.277 106.14 790.907 Q103.895 790.537 101.487 789.796 L101.487 785.097 Q103.571 786.231 105.793 786.787 Q108.015 787.342 110.492 787.342 Q114.496 787.342 116.834 785.236 Q119.172 783.129 119.172 779.518 Q119.172 775.907 116.834 773.801 Q114.496 771.694 110.492 771.694 Q108.617 771.694 106.742 772.111 Q104.89 772.527 102.946 773.407 L102.946 756.046 Z\" fill=\"#000000\" fill-rule=\"evenodd\" fill-opacity=\"1\" /><path clip-path=\"url(#clip530)\" d=\"M 0 0 M138.918 759.125 Q135.307 759.125 133.478 762.689 Q131.672 766.231 131.672 773.361 Q131.672 780.467 133.478 784.032 Q135.307 787.574 138.918 787.574 Q142.552 787.574 144.357 784.032 Q146.186 780.467 146.186 773.361 Q146.186 766.231 144.357 762.689 Q142.552 759.125 138.918 759.125 M138.918 755.421 Q144.728 755.421 147.783 760.027 Q150.862 764.611 150.862 773.361 Q150.862 782.088 147.783 786.694 Q144.728 791.277 138.918 791.277 Q133.107 791.277 130.029 786.694 Q126.973 782.088 126.973 773.361 Q126.973 764.611 130.029 760.027 Q133.107 755.421 138.918 755.421 Z\" fill=\"#000000\" fill-rule=\"evenodd\" fill-opacity=\"1\" /><path clip-path=\"url(#clip530)\" d=\"M 0 0 M76.8346 452.59 Q73.2236 452.59 71.3949 456.155 Q69.5893 459.696 69.5893 466.826 Q69.5893 473.932 71.3949 477.497 Q73.2236 481.039 76.8346 481.039 Q80.4689 481.039 82.2744 477.497 Q84.1031 473.932 84.1031 466.826 Q84.1031 459.696 82.2744 456.155 Q80.4689 452.59 76.8346 452.59 M76.8346 448.886 Q82.6448 448.886 85.7003 453.493 Q88.779 458.076 88.779 466.826 Q88.779 475.553 85.7003 480.159 Q82.6448 484.742 76.8346 484.742 Q71.0245 484.742 67.9458 480.159 Q64.8903 475.553 64.8903 466.826 Q64.8903 458.076 67.9458 453.493 Q71.0245 448.886 76.8346 448.886 Z\" fill=\"#000000\" fill-rule=\"evenodd\" fill-opacity=\"1\" /><path clip-path=\"url(#clip530)\" d=\"M 0 0 M93.8484 478.192 L98.7327 478.192 L98.7327 484.071 L93.8484 484.071 L93.8484 478.192 Z\" fill=\"#000000\" fill-rule=\"evenodd\" fill-opacity=\"1\" /><path clip-path=\"url(#clip530)\" d=\"M 0 0 M102.622 449.511 L124.844 449.511 L124.844 451.502 L112.297 484.071 L107.413 484.071 L119.219 453.446 L102.622 453.446 L102.622 449.511 Z\" fill=\"#000000\" fill-rule=\"evenodd\" fill-opacity=\"1\" /><path clip-path=\"url(#clip530)\" d=\"M 0 0 M129.959 449.511 L148.316 449.511 L148.316 453.446 L134.242 453.446 L134.242 461.918 Q135.26 461.571 136.279 461.409 Q137.297 461.224 138.316 461.224 Q144.103 461.224 147.482 464.395 Q150.862 467.567 150.862 472.983 Q150.862 478.562 147.39 481.664 Q143.918 484.742 137.598 484.742 Q135.422 484.742 133.154 484.372 Q130.908 484.002 128.501 483.261 L128.501 478.562 Q130.584 479.696 132.807 480.252 Q135.029 480.807 137.506 480.807 Q141.51 480.807 143.848 478.701 Q146.186 476.594 146.186 472.983 Q146.186 469.372 143.848 467.266 Q141.51 465.159 137.506 465.159 Q135.631 465.159 133.756 465.576 Q131.904 465.993 129.959 466.872 L129.959 449.511 Z\" fill=\"#000000\" fill-rule=\"evenodd\" fill-opacity=\"1\" /><path clip-path=\"url(#clip530)\" d=\"M 0 0 M66.9736 173.601 L74.6124 173.601 L74.6124 147.236 L66.3023 148.902 L66.3023 144.643 L74.5661 142.976 L79.242 142.976 L79.242 173.601 L86.8809 173.601 L86.8809 177.536 L66.9736 177.536 L66.9736 173.601 Z\" fill=\"#000000\" fill-rule=\"evenodd\" fill-opacity=\"1\" /><path clip-path=\"url(#clip530)\" d=\"M 0 0 M91.9503 171.657 L96.8345 171.657 L96.8345 177.536 L91.9503 177.536 L91.9503 171.657 Z\" fill=\"#000000\" fill-rule=\"evenodd\" fill-opacity=\"1\" /><path clip-path=\"url(#clip530)\" d=\"M 0 0 M111.904 146.055 Q108.293 146.055 106.464 149.62 Q104.659 153.161 104.659 160.291 Q104.659 167.397 106.464 170.962 Q108.293 174.504 111.904 174.504 Q115.538 174.504 117.344 170.962 Q119.172 167.397 119.172 160.291 Q119.172 153.161 117.344 149.62 Q115.538 146.055 111.904 146.055 M111.904 142.351 Q117.714 142.351 120.77 146.958 Q123.848 151.541 123.848 160.291 Q123.848 169.018 120.77 173.624 Q117.714 178.208 111.904 178.208 Q106.094 178.208 103.015 173.624 Q99.9595 169.018 99.9595 160.291 Q99.9595 151.541 103.015 146.958 Q106.094 142.351 111.904 142.351 Z\" fill=\"#000000\" fill-rule=\"evenodd\" fill-opacity=\"1\" /><path clip-path=\"url(#clip530)\" d=\"M 0 0 M138.918 146.055 Q135.307 146.055 133.478 149.62 Q131.672 153.161 131.672 160.291 Q131.672 167.397 133.478 170.962 Q135.307 174.504 138.918 174.504 Q142.552 174.504 144.357 170.962 Q146.186 167.397 146.186 160.291 Q146.186 153.161 144.357 149.62 Q142.552 146.055 138.918 146.055 M138.918 142.351 Q144.728 142.351 147.783 146.958 Q150.862 151.541 150.862 160.291 Q150.862 169.018 147.783 173.624 Q144.728 178.208 138.918 178.208 Q133.107 178.208 130.029 173.624 Q126.973 169.018 126.973 160.291 Q126.973 151.541 130.029 146.958 Q133.107 142.351 138.918 142.351 Z\" fill=\"#000000\" fill-rule=\"evenodd\" fill-opacity=\"1\" /><path clip-path=\"url(#clip530)\" d=\"M 0 0 M932.425 12.096 L944.618 12.096 L960.052 53.2532 L975.567 12.096 L987.76 12.096 L987.76 72.576 L979.78 72.576 L979.78 19.4686 L964.184 60.9499 L955.96 60.9499 L940.365 19.4686 L940.365 72.576 L932.425 72.576 L932.425 12.096 Z\" fill=\"#000000\" fill-rule=\"evenodd\" fill-opacity=\"1\" /><path clip-path=\"url(#clip530)\" d=\"M 0 0 M994.809 54.671 L994.809 27.2059 L1002.26 27.2059 L1002.26 54.3874 Q1002.26 60.8284 1004.77 64.0691 Q1007.29 67.2693 1012.31 67.2693 Q1018.34 67.2693 1021.83 63.421 Q1025.35 59.5726 1025.35 52.9291 L1025.35 27.2059 L1032.81 27.2059 L1032.81 72.576 L1025.35 72.576 L1025.35 65.6084 Q1022.64 69.7404 1019.03 71.7658 Q1015.47 73.7508 1010.73 73.7508 Q1002.91 73.7508 998.86 68.8897 Q994.809 64.0286 994.809 54.671 M1013.56 26.1121 L1013.56 26.1121 Z\" fill=\"#000000\" fill-rule=\"evenodd\" fill-opacity=\"1\" /><path clip-path=\"url(#clip530)\" d=\"M 0 0 M1040.62 9.54393 L1048.08 9.54393 L1048.08 72.576 L1040.62 72.576 L1040.62 9.54393 Z\" fill=\"#000000\" fill-rule=\"evenodd\" fill-opacity=\"1\" /><path clip-path=\"url(#clip530)\" d=\"M 0 0 M1063.27 14.324 L1063.27 27.2059 L1078.62 27.2059 L1078.62 32.9987 L1063.27 32.9987 L1063.27 57.6282 Q1063.27 63.1779 1064.77 64.7578 Q1066.31 66.3376 1070.97 66.3376 L1078.62 66.3376 L1078.62 72.576 L1070.97 72.576 Q1062.34 72.576 1059.06 69.3758 Q1055.77 66.1351 1055.77 57.6282 L1055.77 32.9987 L1050.31 32.9987 L1050.31 27.2059 L1055.77 27.2059 L1055.77 14.324 L1063.27 14.324 Z\" fill=\"#000000\" fill-rule=\"evenodd\" fill-opacity=\"1\" /><path clip-path=\"url(#clip530)\" d=\"M 0 0 M1086.44 27.2059 L1093.89 27.2059 L1093.89 72.576 L1086.44 72.576 L1086.44 27.2059 M1086.44 9.54393 L1093.89 9.54393 L1093.89 18.9825 L1086.44 18.9825 L1086.44 9.54393 Z\" fill=\"#000000\" fill-rule=\"evenodd\" fill-opacity=\"1\" /><path clip-path=\"url(#clip530)\" d=\"M 0 0 M1139.43 45.1919 L1139.43 72.576 L1131.97 72.576 L1131.97 45.4349 Q1131.97 38.994 1129.46 35.7938 Q1126.95 32.5936 1121.93 32.5936 Q1115.89 32.5936 1112.41 36.4419 Q1108.92 40.2903 1108.92 46.9338 L1108.92 72.576 L1101.43 72.576 L1101.43 27.2059 L1108.92 27.2059 L1108.92 34.2544 Q1111.6 30.163 1115.2 28.1376 Q1118.85 26.1121 1123.59 26.1121 Q1131.41 26.1121 1135.42 30.9732 Q1139.43 35.7938 1139.43 45.1919 Z\" fill=\"#000000\" fill-rule=\"evenodd\" fill-opacity=\"1\" /><path clip-path=\"url(#clip530)\" d=\"M 0 0 M1164.83 32.4315 Q1158.83 32.4315 1155.35 37.1306 Q1151.86 41.7891 1151.86 49.9314 Q1151.86 58.0738 1155.31 62.7728 Q1158.79 67.4314 1164.83 67.4314 Q1170.78 67.4314 1174.26 62.7323 Q1177.75 58.0333 1177.75 49.9314 Q1177.75 41.8701 1174.26 37.1711 Q1170.78 32.4315 1164.83 32.4315 M1164.83 26.1121 Q1174.55 26.1121 1180.1 32.4315 Q1185.65 38.7509 1185.65 49.9314 Q1185.65 61.0714 1180.1 67.4314 Q1174.55 73.7508 1164.83 73.7508 Q1155.06 73.7508 1149.51 67.4314 Q1144 61.0714 1144 49.9314 Q1144 38.7509 1149.51 32.4315 Q1155.06 26.1121 1164.83 26.1121 Z\" fill=\"#000000\" fill-rule=\"evenodd\" fill-opacity=\"1\" /><path clip-path=\"url(#clip530)\" d=\"M 0 0 M1228.79 35.9153 Q1231.58 30.8922 1235.47 28.5022 Q1239.36 26.1121 1244.63 26.1121 Q1251.72 26.1121 1255.57 31.0947 Q1259.41 36.0368 1259.41 45.1919 L1259.41 72.576 L1251.92 72.576 L1251.92 45.4349 Q1251.92 38.913 1249.61 35.7533 Q1247.3 32.5936 1242.56 32.5936 Q1236.77 32.5936 1233.41 36.4419 Q1230.04 40.2903 1230.04 46.9338 L1230.04 72.576 L1222.55 72.576 L1222.55 45.4349 Q1222.55 38.8725 1220.24 35.7533 Q1217.93 32.5936 1213.11 32.5936 Q1207.4 32.5936 1204.04 36.4824 Q1200.68 40.3308 1200.68 46.9338 L1200.68 72.576 L1193.18 72.576 L1193.18 27.2059 L1200.68 27.2059 L1200.68 34.2544 Q1203.23 30.082 1206.79 28.0971 Q1210.36 26.1121 1215.26 26.1121 Q1220.2 26.1121 1223.64 28.6237 Q1227.13 31.1352 1228.79 35.9153 Z\" fill=\"#000000\" fill-rule=\"evenodd\" fill-opacity=\"1\" /><path clip-path=\"url(#clip530)\" d=\"M 0 0 M1267.23 27.2059 L1274.69 27.2059 L1274.69 72.576 L1267.23 72.576 L1267.23 27.2059 M1267.23 9.54393 L1274.69 9.54393 L1274.69 18.9825 L1267.23 18.9825 L1267.23 9.54393 Z\" fill=\"#000000\" fill-rule=\"evenodd\" fill-opacity=\"1\" /><path clip-path=\"url(#clip530)\" d=\"M 0 0 M1303.12 49.7694 Q1294.09 49.7694 1290.61 51.8354 Q1287.12 53.9013 1287.12 58.8839 Q1287.12 62.8538 1289.71 65.2034 Q1292.35 67.5124 1296.84 67.5124 Q1303.04 67.5124 1306.77 63.1374 Q1310.54 58.7219 1310.54 51.4303 L1310.54 49.7694 L1303.12 49.7694 M1317.99 46.6907 L1317.99 72.576 L1310.54 72.576 L1310.54 65.6895 Q1307.98 69.8214 1304.18 71.8063 Q1300.37 73.7508 1294.86 73.7508 Q1287.89 73.7508 1283.76 69.8619 Q1279.67 65.9325 1279.67 59.3701 Q1279.67 51.7138 1284.77 47.825 Q1289.92 43.9361 1300.08 43.9361 L1310.54 43.9361 L1310.54 43.2069 Q1310.54 38.0623 1307.13 35.2672 Q1303.77 32.4315 1297.65 32.4315 Q1293.77 32.4315 1290.08 33.3632 Q1286.39 34.295 1282.99 36.1584 L1282.99 29.2718 Q1287.08 27.692 1290.93 26.9223 Q1294.78 26.1121 1298.42 26.1121 Q1308.27 26.1121 1313.13 31.2163 Q1317.99 36.3204 1317.99 46.6907 Z\" fill=\"#000000\" fill-rule=\"evenodd\" fill-opacity=\"1\" /><path clip-path=\"url(#clip530)\" d=\"M 0 0 M1325.81 9.54393 L1333.26 9.54393 L1333.26 72.576 L1325.81 72.576 L1325.81 9.54393 Z\" fill=\"#000000\" fill-rule=\"evenodd\" fill-opacity=\"1\" /><path clip-path=\"url(#clip530)\" d=\"M 0 0 M1375.96 18.8205 L1375.96 41.5461 L1386.25 41.5461 Q1391.96 41.5461 1395.08 38.5889 Q1398.2 35.6318 1398.2 30.163 Q1398.2 24.7348 1395.08 21.7777 Q1391.96 18.8205 1386.25 18.8205 L1375.96 18.8205 M1367.78 12.096 L1386.25 12.096 Q1396.42 12.096 1401.6 16.714 Q1406.83 21.2916 1406.83 30.163 Q1406.83 39.1155 1401.6 43.6931 Q1396.42 48.2706 1386.25 48.2706 L1375.96 48.2706 L1375.96 72.576 L1367.78 72.576 L1367.78 12.096 Z\" fill=\"#000000\" fill-rule=\"evenodd\" fill-opacity=\"1\" /><path clip-path=\"url(#clip530)\" d=\"M 0 0 M1429.27 32.4315 Q1423.27 32.4315 1419.79 37.1306 Q1416.31 41.7891 1416.31 49.9314 Q1416.31 58.0738 1419.75 62.7728 Q1423.23 67.4314 1429.27 67.4314 Q1435.22 67.4314 1438.71 62.7323 Q1442.19 58.0333 1442.19 49.9314 Q1442.19 41.8701 1438.71 37.1711 Q1435.22 32.4315 1429.27 32.4315 M1429.27 26.1121 Q1438.99 26.1121 1444.54 32.4315 Q1450.09 38.7509 1450.09 49.9314 Q1450.09 61.0714 1444.54 67.4314 Q1438.99 73.7508 1429.27 73.7508 Q1419.51 73.7508 1413.96 67.4314 Q1408.45 61.0714 1408.45 49.9314 Q1408.45 38.7509 1413.96 32.4315 Q1419.51 26.1121 1429.27 26.1121 Z\" fill=\"#000000\" fill-rule=\"evenodd\" fill-opacity=\"1\" /><path clip-path=\"url(#clip530)\" d=\"M 0 0 M1453.57 27.2059 L1461.03 27.2059 L1470.34 62.6108 L1479.62 27.2059 L1488.41 27.2059 L1497.73 62.6108 L1507.01 27.2059 L1514.46 27.2059 L1502.59 72.576 L1493.8 72.576 L1484.04 35.3887 L1474.23 72.576 L1465.44 72.576 L1453.57 27.2059 Z\" fill=\"#000000\" fill-rule=\"evenodd\" fill-opacity=\"1\" /><path clip-path=\"url(#clip530)\" d=\"M 0 0 M1561.08 48.0275 L1561.08 51.6733 L1526.81 51.6733 Q1527.3 59.3701 1531.43 63.421 Q1535.6 67.4314 1543.02 67.4314 Q1547.31 67.4314 1551.32 66.3781 Q1555.37 65.3249 1559.34 63.2184 L1559.34 70.267 Q1555.33 71.9684 1551.12 72.8596 Q1546.91 73.7508 1542.57 73.7508 Q1531.72 73.7508 1525.36 67.4314 Q1519.04 61.1119 1519.04 50.3365 Q1519.04 39.1965 1525.03 32.6746 Q1531.07 26.1121 1541.28 26.1121 Q1550.43 26.1121 1555.74 32.0264 Q1561.08 37.9003 1561.08 48.0275 M1553.63 45.84 Q1553.55 39.7232 1550.19 36.0774 Q1546.87 32.4315 1541.36 32.4315 Q1535.12 32.4315 1531.35 35.9558 Q1527.62 39.4801 1527.06 45.8805 L1553.63 45.84 Z\" fill=\"#000000\" fill-rule=\"evenodd\" fill-opacity=\"1\" /><path clip-path=\"url(#clip530)\" d=\"M 0 0 M1595.19 34.1734 Q1593.94 33.4443 1592.44 33.1202 Q1590.98 32.7556 1589.2 32.7556 Q1582.88 32.7556 1579.48 36.8875 Q1576.11 40.9789 1576.11 48.6757 L1576.11 72.576 L1568.62 72.576 L1568.62 27.2059 L1576.11 27.2059 L1576.11 34.2544 Q1578.46 30.1225 1582.23 28.1376 Q1586 26.1121 1591.39 26.1121 Q1592.16 26.1121 1593.09 26.2337 Q1594.02 26.3147 1595.15 26.5172 L1595.19 34.1734 Z\" fill=\"#000000\" fill-rule=\"evenodd\" fill-opacity=\"1\" /><path clip-path=\"url(#clip530)\" d=\"M 0 0 M944.967 1513.81 L944.967 1550.76 L952.733 1550.76 Q962.568 1550.76 967.119 1546.3 Q971.703 1541.85 971.703 1532.24 Q971.703 1522.69 967.119 1518.26 Q962.568 1513.81 952.733 1513.81 L944.967 1513.81 M938.537 1508.52 L951.746 1508.52 Q965.56 1508.52 972.021 1514.28 Q978.482 1520.01 978.482 1532.24 Q978.482 1544.52 971.989 1550.28 Q965.496 1556.04 951.746 1556.04 L938.537 1556.04 L938.537 1508.52 Z\" fill=\"#000000\" fill-rule=\"evenodd\" fill-opacity=\"1\" /><path clip-path=\"url(#clip530)\" d=\"M 0 0 M1015.12 1536.76 L1015.12 1539.62 L988.19 1539.62 Q988.572 1545.67 991.818 1548.85 Q995.097 1552 1000.92 1552 Q1004.3 1552 1007.45 1551.17 Q1010.63 1550.35 1013.75 1548.69 L1013.75 1554.23 Q1010.6 1555.57 1007.29 1556.27 Q1003.98 1556.97 1000.57 1556.97 Q992.041 1556.97 987.044 1552 Q982.079 1547.04 982.079 1538.57 Q982.079 1529.82 986.789 1524.69 Q991.532 1519.54 999.553 1519.54 Q1006.75 1519.54 1010.92 1524.18 Q1015.12 1528.8 1015.12 1536.76 M1009.26 1535.04 Q1009.2 1530.23 1006.55 1527.37 Q1003.94 1524.5 999.616 1524.5 Q994.715 1524.5 991.755 1527.27 Q988.826 1530.04 988.381 1535.07 L1009.26 1535.04 Z\" fill=\"#000000\" fill-rule=\"evenodd\" fill-opacity=\"1\" /><path clip-path=\"url(#clip530)\" d=\"M 0 0 M1027.05 1510.27 L1027.05 1520.4 L1039.12 1520.4 L1039.12 1524.95 L1027.05 1524.95 L1027.05 1544.3 Q1027.05 1548.66 1028.23 1549.9 Q1029.44 1551.14 1033.1 1551.14 L1039.12 1551.14 L1039.12 1556.04 L1033.1 1556.04 Q1026.32 1556.04 1023.74 1553.53 Q1021.16 1550.98 1021.16 1544.3 L1021.16 1524.95 L1016.87 1524.95 L1016.87 1520.4 L1021.16 1520.4 L1021.16 1510.27 L1027.05 1510.27 Z\" fill=\"#000000\" fill-rule=\"evenodd\" fill-opacity=\"1\" /><path clip-path=\"url(#clip530)\" d=\"M 0 0 M1075.75 1536.76 L1075.75 1539.62 L1048.82 1539.62 Q1049.21 1545.67 1052.45 1548.85 Q1055.73 1552 1061.55 1552 Q1064.93 1552 1068.08 1551.17 Q1071.26 1550.35 1074.38 1548.69 L1074.38 1554.23 Q1071.23 1555.57 1067.92 1556.27 Q1064.61 1556.97 1061.2 1556.97 Q1052.67 1556.97 1047.68 1552 Q1042.71 1547.04 1042.71 1538.57 Q1042.71 1529.82 1047.42 1524.69 Q1052.17 1519.54 1060.19 1519.54 Q1067.38 1519.54 1071.55 1524.18 Q1075.75 1528.8 1075.75 1536.76 M1069.89 1535.04 Q1069.83 1530.23 1067.19 1527.37 Q1064.58 1524.5 1060.25 1524.5 Q1055.35 1524.5 1052.39 1527.27 Q1049.46 1530.04 1049.01 1535.07 L1069.89 1535.04 Z\" fill=\"#000000\" fill-rule=\"evenodd\" fill-opacity=\"1\" /><path clip-path=\"url(#clip530)\" d=\"M 0 0 M1107.55 1521.76 L1107.55 1527.24 Q1105.06 1525.87 1102.55 1525.2 Q1100.07 1524.5 1097.52 1524.5 Q1091.82 1524.5 1088.67 1528.13 Q1085.52 1531.73 1085.52 1538.25 Q1085.52 1544.78 1088.67 1548.4 Q1091.82 1552 1097.52 1552 Q1100.07 1552 1102.55 1551.33 Q1105.06 1550.63 1107.55 1549.26 L1107.55 1554.68 Q1105.1 1555.82 1102.45 1556.39 Q1099.84 1556.97 1096.88 1556.97 Q1088.83 1556.97 1084.09 1551.91 Q1079.35 1546.85 1079.35 1538.25 Q1079.35 1529.53 1084.12 1524.53 Q1088.93 1519.54 1097.27 1519.54 Q1099.97 1519.54 1102.55 1520.11 Q1105.13 1520.65 1107.55 1521.76 Z\" fill=\"#000000\" fill-rule=\"evenodd\" fill-opacity=\"1\" /><path clip-path=\"url(#clip530)\" d=\"M 0 0 M1119.48 1510.27 L1119.48 1520.4 L1131.55 1520.4 L1131.55 1524.95 L1119.48 1524.95 L1119.48 1544.3 Q1119.48 1548.66 1120.66 1549.9 Q1121.87 1551.14 1125.53 1551.14 L1131.55 1551.14 L1131.55 1556.04 L1125.53 1556.04 Q1118.75 1556.04 1116.17 1553.53 Q1113.59 1550.98 1113.59 1544.3 L1113.59 1524.95 L1109.3 1524.95 L1109.3 1520.4 L1113.59 1520.4 L1113.59 1510.27 L1119.48 1510.27 Z\" fill=\"#000000\" fill-rule=\"evenodd\" fill-opacity=\"1\" /><path clip-path=\"url(#clip530)\" d=\"M 0 0 M1153.89 1538.12 Q1146.79 1538.12 1144.05 1539.75 Q1141.32 1541.37 1141.32 1545.29 Q1141.32 1548.4 1143.35 1550.25 Q1145.42 1552.07 1148.96 1552.07 Q1153.83 1552.07 1156.75 1548.63 Q1159.71 1545.16 1159.71 1539.43 L1159.71 1538.12 L1153.89 1538.12 M1165.57 1535.71 L1165.57 1556.04 L1159.71 1556.04 L1159.71 1550.63 Q1157.71 1553.88 1154.72 1555.44 Q1151.72 1556.97 1147.4 1556.97 Q1141.92 1556.97 1138.68 1553.91 Q1135.46 1550.82 1135.46 1545.67 Q1135.46 1539.65 1139.47 1536.6 Q1143.51 1533.54 1151.5 1533.54 L1159.71 1533.54 L1159.71 1532.97 Q1159.71 1528.93 1157.04 1526.73 Q1154.4 1524.5 1149.59 1524.5 Q1146.54 1524.5 1143.64 1525.23 Q1140.74 1525.97 1138.07 1527.43 L1138.07 1522.02 Q1141.29 1520.78 1144.31 1520.17 Q1147.33 1519.54 1150.2 1519.54 Q1157.93 1519.54 1161.75 1523.55 Q1165.57 1527.56 1165.57 1535.71 Z\" fill=\"#000000\" fill-rule=\"evenodd\" fill-opacity=\"1\" /><path clip-path=\"url(#clip530)\" d=\"M 0 0 M1197.3 1538.25 Q1197.3 1531.79 1194.63 1528.13 Q1191.99 1524.44 1187.34 1524.44 Q1182.69 1524.44 1180.02 1528.13 Q1177.38 1531.79 1177.38 1538.25 Q1177.38 1544.71 1180.02 1548.4 Q1182.69 1552.07 1187.34 1552.07 Q1191.99 1552.07 1194.63 1548.4 Q1197.3 1544.71 1197.3 1538.25 M1177.38 1525.81 Q1179.22 1522.62 1182.03 1521.1 Q1184.86 1519.54 1188.77 1519.54 Q1195.27 1519.54 1199.31 1524.69 Q1203.38 1529.85 1203.38 1538.25 Q1203.38 1546.65 1199.31 1551.81 Q1195.27 1556.97 1188.77 1556.97 Q1184.86 1556.97 1182.03 1555.44 Q1179.22 1553.88 1177.38 1550.7 L1177.38 1556.04 L1171.49 1556.04 L1171.49 1506.52 L1177.38 1506.52 L1177.38 1525.81 Z\" fill=\"#000000\" fill-rule=\"evenodd\" fill-opacity=\"1\" /><path clip-path=\"url(#clip530)\" d=\"M 0 0 M1209.53 1506.52 L1215.38 1506.52 L1215.38 1556.04 L1209.53 1556.04 L1209.53 1506.52 Z\" fill=\"#000000\" fill-rule=\"evenodd\" fill-opacity=\"1\" /><path clip-path=\"url(#clip530)\" d=\"M 0 0 M1252.02 1536.76 L1252.02 1539.62 L1225.09 1539.62 Q1225.47 1545.67 1228.72 1548.85 Q1232 1552 1237.82 1552 Q1241.19 1552 1244.35 1551.17 Q1247.53 1550.35 1250.65 1548.69 L1250.65 1554.23 Q1247.5 1555.57 1244.19 1556.27 Q1240.88 1556.97 1237.47 1556.97 Q1228.94 1556.97 1223.94 1552 Q1218.98 1547.04 1218.98 1538.57 Q1218.98 1529.82 1223.69 1524.69 Q1228.43 1519.54 1236.45 1519.54 Q1243.65 1519.54 1247.82 1524.18 Q1252.02 1528.8 1252.02 1536.76 M1246.16 1535.04 Q1246.1 1530.23 1243.45 1527.37 Q1240.84 1524.5 1236.52 1524.5 Q1231.61 1524.5 1228.65 1527.27 Q1225.73 1530.04 1225.28 1535.07 L1246.16 1535.04 Z\" fill=\"#000000\" fill-rule=\"evenodd\" fill-opacity=\"1\" /><path clip-path=\"url(#clip530)\" d=\"M 0 0 M1279.13 1508.52 L1309.18 1508.52 L1309.18 1513.93 L1285.56 1513.93 L1285.56 1528 L1308.19 1528 L1308.19 1533.41 L1285.56 1533.41 L1285.56 1550.63 L1309.75 1550.63 L1309.75 1556.04 L1279.13 1556.04 L1279.13 1508.52 Z\" fill=\"#000000\" fill-rule=\"evenodd\" fill-opacity=\"1\" /><path clip-path=\"url(#clip530)\" d=\"M 0 0 M1333.94 1506.52 L1333.94 1511.39 L1328.34 1511.39 Q1325.19 1511.39 1323.95 1512.66 Q1322.74 1513.93 1322.74 1517.24 L1322.74 1520.4 L1332.38 1520.4 L1332.38 1524.95 L1322.74 1524.95 L1322.74 1556.04 L1316.85 1556.04 L1316.85 1524.95 L1311.25 1524.95 L1311.25 1520.4 L1316.85 1520.4 L1316.85 1517.91 Q1316.85 1511.96 1319.62 1509.26 Q1322.39 1506.52 1328.4 1506.52 L1333.94 1506.52 Z\" fill=\"#000000\" fill-rule=\"evenodd\" fill-opacity=\"1\" /><path clip-path=\"url(#clip530)\" d=\"M 0 0 M1358.13 1506.52 L1358.13 1511.39 L1352.53 1511.39 Q1349.38 1511.39 1348.14 1512.66 Q1346.93 1513.93 1346.93 1517.24 L1346.93 1520.4 L1356.57 1520.4 L1356.57 1524.95 L1346.93 1524.95 L1346.93 1556.04 L1341.04 1556.04 L1341.04 1524.95 L1335.44 1524.95 L1335.44 1520.4 L1341.04 1520.4 L1341.04 1517.91 Q1341.04 1511.96 1343.81 1509.26 Q1346.58 1506.52 1352.59 1506.52 L1358.13 1506.52 Z\" fill=\"#000000\" fill-rule=\"evenodd\" fill-opacity=\"1\" /><path clip-path=\"url(#clip530)\" d=\"M 0 0 M1394.77 1536.76 L1394.77 1539.62 L1367.84 1539.62 Q1368.22 1545.67 1371.47 1548.85 Q1374.75 1552 1380.57 1552 Q1383.95 1552 1387.1 1551.17 Q1390.28 1550.35 1393.4 1548.69 L1393.4 1554.23 Q1390.25 1555.57 1386.94 1556.27 Q1383.63 1556.97 1380.22 1556.97 Q1371.69 1556.97 1366.69 1552 Q1361.73 1547.04 1361.73 1538.57 Q1361.73 1529.82 1366.44 1524.69 Q1371.18 1519.54 1379.2 1519.54 Q1386.4 1519.54 1390.57 1524.18 Q1394.77 1528.8 1394.77 1536.76 M1388.91 1535.04 Q1388.85 1530.23 1386.21 1527.37 Q1383.6 1524.5 1379.27 1524.5 Q1374.37 1524.5 1371.41 1527.27 Q1368.48 1530.04 1368.03 1535.07 L1388.91 1535.04 Z\" fill=\"#000000\" fill-rule=\"evenodd\" fill-opacity=\"1\" /><path clip-path=\"url(#clip530)\" d=\"M 0 0 M1426.56 1521.76 L1426.56 1527.24 Q1424.08 1525.87 1421.57 1525.2 Q1419.08 1524.5 1416.54 1524.5 Q1410.84 1524.5 1407.69 1528.13 Q1404.54 1531.73 1404.54 1538.25 Q1404.54 1544.78 1407.69 1548.4 Q1410.84 1552 1416.54 1552 Q1419.08 1552 1421.57 1551.33 Q1424.08 1550.63 1426.56 1549.26 L1426.56 1554.68 Q1424.11 1555.82 1421.47 1556.39 Q1418.86 1556.97 1415.9 1556.97 Q1407.85 1556.97 1403.11 1551.91 Q1398.36 1546.85 1398.36 1538.25 Q1398.36 1529.53 1403.14 1524.53 Q1407.94 1519.54 1416.28 1519.54 Q1418.99 1519.54 1421.57 1520.11 Q1424.15 1520.65 1426.56 1521.76 Z\" fill=\"#000000\" fill-rule=\"evenodd\" fill-opacity=\"1\" /><path clip-path=\"url(#clip530)\" d=\"M 0 0 M1438.5 1510.27 L1438.5 1520.4 L1450.56 1520.4 L1450.56 1524.95 L1438.5 1524.95 L1438.5 1544.3 Q1438.5 1548.66 1439.68 1549.9 Q1440.89 1551.14 1444.55 1551.14 L1450.56 1551.14 L1450.56 1556.04 L1444.55 1556.04 Q1437.77 1556.04 1435.19 1553.53 Q1432.61 1550.98 1432.61 1544.3 L1432.61 1524.95 L1428.31 1524.95 L1428.31 1520.4 L1432.61 1520.4 L1432.61 1510.27 L1438.5 1510.27 Z\" fill=\"#000000\" fill-rule=\"evenodd\" fill-opacity=\"1\" /><path clip-path=\"url(#clip530)\" d=\"M 0 0 M1506.17 1510.08 L1506.17 1516.35 Q1502.51 1514.6 1499.26 1513.74 Q1496.01 1512.88 1492.99 1512.88 Q1487.74 1512.88 1484.87 1514.92 Q1482.04 1516.96 1482.04 1520.71 Q1482.04 1523.87 1483.92 1525.49 Q1485.83 1527.08 1491.11 1528.07 L1495 1528.86 Q1502.19 1530.23 1505.59 1533.7 Q1509.03 1537.14 1509.03 1542.93 Q1509.03 1549.84 1504.38 1553.4 Q1499.77 1556.97 1490.83 1556.97 Q1487.45 1556.97 1483.63 1556.2 Q1479.85 1555.44 1475.77 1553.94 L1475.77 1547.32 Q1479.69 1549.52 1483.44 1550.63 Q1487.2 1551.75 1490.83 1551.75 Q1496.33 1551.75 1499.32 1549.58 Q1502.32 1547.42 1502.32 1543.41 Q1502.32 1539.91 1500.15 1537.93 Q1498.02 1535.96 1493.12 1534.97 L1489.2 1534.21 Q1482.01 1532.78 1478.79 1529.72 Q1475.58 1526.67 1475.58 1521.22 Q1475.58 1514.92 1480 1511.29 Q1484.46 1507.66 1492.26 1507.66 Q1495.6 1507.66 1499.07 1508.27 Q1502.54 1508.87 1506.17 1510.08 Z\" fill=\"#000000\" fill-rule=\"evenodd\" fill-opacity=\"1\" /><path clip-path=\"url(#clip530)\" d=\"M 0 0 M1515.17 1520.4 L1521.03 1520.4 L1521.03 1556.04 L1515.17 1556.04 L1515.17 1520.4 M1515.17 1506.52 L1521.03 1506.52 L1521.03 1513.93 L1515.17 1513.93 L1515.17 1506.52 Z\" fill=\"#000000\" fill-rule=\"evenodd\" fill-opacity=\"1\" /><path clip-path=\"url(#clip530)\" d=\"M 0 0 M1524.63 1520.4 L1552.45 1520.4 L1552.45 1525.74 L1530.42 1551.37 L1552.45 1551.37 L1552.45 1556.04 L1523.83 1556.04 L1523.83 1550.7 L1545.86 1525.07 L1524.63 1525.07 L1524.63 1520.4 Z\" fill=\"#000000\" fill-rule=\"evenodd\" fill-opacity=\"1\" /><path clip-path=\"url(#clip530)\" d=\"M 0 0 M1589.08 1536.76 L1589.08 1539.62 L1562.15 1539.62 Q1562.54 1545.67 1565.78 1548.85 Q1569.06 1552 1574.89 1552 Q1578.26 1552 1581.41 1551.17 Q1584.59 1550.35 1587.71 1548.69 L1587.71 1554.23 Q1584.56 1555.57 1581.25 1556.27 Q1577.94 1556.97 1574.54 1556.97 Q1566 1556.97 1561.01 1552 Q1556.04 1547.04 1556.04 1538.57 Q1556.04 1529.82 1560.75 1524.69 Q1565.5 1519.54 1573.52 1519.54 Q1580.71 1519.54 1584.88 1524.18 Q1589.08 1528.8 1589.08 1536.76 M1583.22 1535.04 Q1583.16 1530.23 1580.52 1527.37 Q1577.91 1524.5 1573.58 1524.5 Q1568.68 1524.5 1565.72 1527.27 Q1562.79 1530.04 1562.34 1535.07 L1583.22 1535.04 Z\" fill=\"#000000\" fill-rule=\"evenodd\" fill-opacity=\"1\" /><polyline clip-path=\"url(#clip532)\" style=\"stroke:#009af9; stroke-width:12; stroke-opacity:1; fill:none\" points=\"\n",
       "  236.501,1374.13 441.962,1386.4 647.424,1386.4 852.886,1374.13 1058.35,1361.87 1263.81,1239.26 1469.27,810.11 1674.73,503.575 1880.19,246.086 2085.66,160.256 \n",
       "  2291.12,160.256 \n",
       "  \"/>\n",
       "<path clip-path=\"url(#clip530)\" d=\"\n",
       "M1064.94 287.756 L2280.16 287.756 L2280.16 166.796 L1064.94 166.796  Z\n",
       "  \" fill=\"#ffffff\" fill-rule=\"evenodd\" fill-opacity=\"1\"/>\n",
       "<polyline clip-path=\"url(#clip530)\" style=\"stroke:#000000; stroke-width:4; stroke-opacity:1; fill:none\" points=\"\n",
       "  1064.94,287.756 2280.16,287.756 2280.16,166.796 1064.94,166.796 1064.94,287.756 \n",
       "  \"/>\n",
       "<polyline clip-path=\"url(#clip530)\" style=\"stroke:#009af9; stroke-width:4; stroke-opacity:1; fill:none\" points=\"\n",
       "  1089.13,227.276 1234.33,227.276 \n",
       "  \"/>\n",
       "<path clip-path=\"url(#clip530)\" d=\"M 0 0 M1278.87 223.607 Q1280.47 220.736 1282.69 219.371 Q1284.92 218.005 1287.92 218.005 Q1291.98 218.005 1294.17 220.852 Q1296.37 223.676 1296.37 228.908 L1296.37 244.556 L1292.09 244.556 L1292.09 229.047 Q1292.09 225.32 1290.77 223.514 Q1289.45 221.709 1286.74 221.709 Q1283.43 221.709 1281.51 223.908 Q1279.59 226.107 1279.59 229.903 L1279.59 244.556 L1275.31 244.556 L1275.31 229.047 Q1275.31 225.297 1273.99 223.514 Q1272.67 221.709 1269.92 221.709 Q1266.65 221.709 1264.73 223.931 Q1262.81 226.13 1262.81 229.903 L1262.81 244.556 L1258.53 244.556 L1258.53 218.63 L1262.81 218.63 L1262.81 222.658 Q1264.27 220.273 1266.3 219.139 Q1268.34 218.005 1271.14 218.005 Q1273.97 218.005 1275.93 219.44 Q1277.92 220.875 1278.87 223.607 Z\" fill=\"#000000\" fill-rule=\"evenodd\" fill-opacity=\"1\" /><path clip-path=\"url(#clip530)\" d=\"M 0 0 M1312.62 231.523 Q1307.46 231.523 1305.47 232.704 Q1303.48 233.884 1303.48 236.732 Q1303.48 239 1304.96 240.343 Q1306.47 241.662 1309.04 241.662 Q1312.58 241.662 1314.71 239.162 Q1316.86 236.639 1316.86 232.472 L1316.86 231.523 L1312.62 231.523 M1321.12 229.764 L1321.12 244.556 L1316.86 244.556 L1316.86 240.621 Q1315.4 242.982 1313.23 244.116 Q1311.05 245.227 1307.9 245.227 Q1303.92 245.227 1301.56 243.005 Q1299.22 240.759 1299.22 237.009 Q1299.22 232.634 1302.14 230.412 Q1305.08 228.19 1310.89 228.19 L1316.86 228.19 L1316.86 227.773 Q1316.86 224.834 1314.91 223.236 Q1312.99 221.616 1309.5 221.616 Q1307.28 221.616 1305.17 222.148 Q1303.06 222.681 1301.12 223.746 L1301.12 219.81 Q1303.46 218.908 1305.66 218.468 Q1307.85 218.005 1309.94 218.005 Q1315.56 218.005 1318.34 220.922 Q1321.12 223.838 1321.12 229.764 Z\" fill=\"#000000\" fill-rule=\"evenodd\" fill-opacity=\"1\" /><path clip-path=\"url(#clip530)\" d=\"M 0 0 M1338.71 208.537 L1338.71 212.079 L1334.64 212.079 Q1332.35 212.079 1331.44 213.005 Q1330.56 213.931 1330.56 216.338 L1330.56 218.63 L1337.58 218.63 L1337.58 221.94 L1330.56 221.94 L1330.56 244.556 L1326.28 244.556 L1326.28 221.94 L1322.21 221.94 L1322.21 218.63 L1326.28 218.63 L1326.28 216.824 Q1326.28 212.496 1328.29 210.528 Q1330.31 208.537 1334.68 208.537 L1338.71 208.537 Z\" fill=\"#000000\" fill-rule=\"evenodd\" fill-opacity=\"1\" /><path clip-path=\"url(#clip530)\" d=\"M 0 0 M1358.8 223.028 L1388.48 223.028 L1388.48 226.917 L1358.8 226.917 L1358.8 223.028 M1358.8 232.472 L1388.48 232.472 L1388.48 236.408 L1358.8 236.408 L1358.8 232.472 Z\" fill=\"#000000\" fill-rule=\"evenodd\" fill-opacity=\"1\" /><path clip-path=\"url(#clip530)\" d=\"M 0 0 M1407.62 208.537 L1417.44 208.537 L1417.44 211.848 L1411.88 211.848 L1411.88 247.496 L1417.44 247.496 L1417.44 250.806 L1407.62 250.806 L1407.62 208.537 Z\" fill=\"#000000\" fill-rule=\"evenodd\" fill-opacity=\"1\" /><path clip-path=\"url(#clip530)\" d=\"M 0 0 M1432.51 213.074 Q1428.9 213.074 1427.07 216.639 Q1425.26 220.181 1425.26 227.31 Q1425.26 234.417 1427.07 237.982 Q1428.9 241.523 1432.51 241.523 Q1436.14 241.523 1437.95 237.982 Q1439.78 234.417 1439.78 227.31 Q1439.78 220.181 1437.95 216.639 Q1436.14 213.074 1432.51 213.074 M1432.51 209.371 Q1438.32 209.371 1441.37 213.977 Q1444.45 218.56 1444.45 227.31 Q1444.45 236.037 1441.37 240.644 Q1438.32 245.227 1432.51 245.227 Q1426.7 245.227 1423.62 240.644 Q1420.56 236.037 1420.56 227.31 Q1420.56 218.56 1423.62 213.977 Q1426.7 209.371 1432.51 209.371 Z\" fill=\"#000000\" fill-rule=\"evenodd\" fill-opacity=\"1\" /><path clip-path=\"url(#clip530)\" d=\"M 0 0 M1449.52 238.676 L1454.4 238.676 L1454.4 244.556 L1449.52 244.556 L1449.52 238.676 Z\" fill=\"#000000\" fill-rule=\"evenodd\" fill-opacity=\"1\" /><path clip-path=\"url(#clip530)\" d=\"M 0 0 M1463.5 240.621 L1479.82 240.621 L1479.82 244.556 L1457.88 244.556 L1457.88 240.621 Q1460.54 237.866 1465.12 233.236 Q1469.73 228.584 1470.91 227.241 Q1473.15 224.718 1474.03 222.982 Q1474.94 221.223 1474.94 219.533 Q1474.94 216.778 1472.99 215.042 Q1471.07 213.306 1467.97 213.306 Q1465.77 213.306 1463.32 214.07 Q1460.89 214.834 1458.11 216.385 L1458.11 211.662 Q1460.93 210.528 1463.39 209.949 Q1465.84 209.371 1467.88 209.371 Q1473.25 209.371 1476.44 212.056 Q1479.64 214.741 1479.64 219.232 Q1479.64 221.361 1478.83 223.283 Q1478.04 225.181 1475.93 227.773 Q1475.35 228.445 1472.25 231.662 Q1469.15 234.857 1463.5 240.621 Z\" fill=\"#000000\" fill-rule=\"evenodd\" fill-opacity=\"1\" /><path clip-path=\"url(#clip530)\" d=\"M 0 0 M1494.24 208.537 L1494.24 250.806 L1484.43 250.806 L1484.43 247.496 L1489.96 247.496 L1489.96 211.848 L1484.43 211.848 L1484.43 208.537 L1494.24 208.537 Z\" fill=\"#000000\" fill-rule=\"evenodd\" fill-opacity=\"1\" /><path clip-path=\"url(#clip530)\" d=\"M 0 0 M1499.8 238.676 L1504.68 238.676 L1504.68 242.658 L1500.89 250.065 L1497.9 250.065 L1499.8 242.658 L1499.8 238.676 Z\" fill=\"#000000\" fill-rule=\"evenodd\" fill-opacity=\"1\" /><path clip-path=\"url(#clip530)\" d=\"M 0 0 M1536 231.523 Q1530.84 231.523 1528.85 232.704 Q1526.86 233.884 1526.86 236.732 Q1526.86 239 1528.34 240.343 Q1529.84 241.662 1532.41 241.662 Q1535.96 241.662 1538.08 239.162 Q1540.24 236.639 1540.24 232.472 L1540.24 231.523 L1536 231.523 M1544.5 229.764 L1544.5 244.556 L1540.24 244.556 L1540.24 240.621 Q1538.78 242.982 1536.6 244.116 Q1534.43 245.227 1531.28 245.227 Q1527.3 245.227 1524.94 243.005 Q1522.6 240.759 1522.6 237.009 Q1522.6 232.634 1525.52 230.412 Q1528.46 228.19 1534.27 228.19 L1540.24 228.19 L1540.24 227.773 Q1540.24 224.834 1538.29 223.236 Q1536.37 221.616 1532.88 221.616 Q1530.65 221.616 1528.55 222.148 Q1526.44 222.681 1524.5 223.746 L1524.5 219.81 Q1526.84 218.908 1529.03 218.468 Q1531.23 218.005 1533.32 218.005 Q1538.94 218.005 1541.72 220.922 Q1544.5 223.838 1544.5 229.764 Z\" fill=\"#000000\" fill-rule=\"evenodd\" fill-opacity=\"1\" /><path clip-path=\"url(#clip530)\" d=\"M 0 0 M1548.96 208.537 L1553.22 208.537 L1553.22 244.556 L1548.96 244.556 L1548.96 208.537 Z\" fill=\"#000000\" fill-rule=\"evenodd\" fill-opacity=\"1\" /><path clip-path=\"url(#clip530)\" d=\"M 0 0 M1561.81 240.667 L1561.81 254.417 L1557.53 254.417 L1557.53 218.63 L1561.81 218.63 L1561.81 222.565 Q1563.15 220.25 1565.19 219.139 Q1567.25 218.005 1570.1 218.005 Q1574.82 218.005 1577.76 221.755 Q1580.72 225.505 1580.72 231.616 Q1580.72 237.727 1577.76 241.477 Q1574.82 245.227 1570.1 245.227 Q1567.25 245.227 1565.19 244.116 Q1563.15 242.982 1561.81 240.667 M1576.3 231.616 Q1576.3 226.917 1574.36 224.255 Q1572.44 221.57 1569.06 221.57 Q1565.68 221.57 1563.73 224.255 Q1561.81 226.917 1561.81 231.616 Q1561.81 236.315 1563.73 239 Q1565.68 241.662 1569.06 241.662 Q1572.44 241.662 1574.36 239 Q1576.3 236.315 1576.3 231.616 Z\" fill=\"#000000\" fill-rule=\"evenodd\" fill-opacity=\"1\" /><path clip-path=\"url(#clip530)\" d=\"M 0 0 M1606.74 228.908 L1606.74 244.556 L1602.48 244.556 L1602.48 229.047 Q1602.48 225.366 1601.05 223.537 Q1599.61 221.709 1596.74 221.709 Q1593.29 221.709 1591.3 223.908 Q1589.31 226.107 1589.31 229.903 L1589.31 244.556 L1585.03 244.556 L1585.03 208.537 L1589.31 208.537 L1589.31 222.658 Q1590.84 220.32 1592.9 219.162 Q1594.98 218.005 1597.69 218.005 Q1602.16 218.005 1604.45 220.783 Q1606.74 223.537 1606.74 228.908 Z\" fill=\"#000000\" fill-rule=\"evenodd\" fill-opacity=\"1\" /><path clip-path=\"url(#clip530)\" d=\"M 0 0 M1622.99 231.523 Q1617.83 231.523 1615.84 232.704 Q1613.85 233.884 1613.85 236.732 Q1613.85 239 1615.33 240.343 Q1616.83 241.662 1619.4 241.662 Q1622.95 241.662 1625.08 239.162 Q1627.23 236.639 1627.23 232.472 L1627.23 231.523 L1622.99 231.523 M1631.49 229.764 L1631.49 244.556 L1627.23 244.556 L1627.23 240.621 Q1625.77 242.982 1623.59 244.116 Q1621.42 245.227 1618.27 245.227 Q1614.29 245.227 1611.93 243.005 Q1609.59 240.759 1609.59 237.009 Q1609.59 232.634 1612.51 230.412 Q1615.45 228.19 1621.26 228.19 L1627.23 228.19 L1627.23 227.773 Q1627.23 224.834 1625.28 223.236 Q1623.36 221.616 1619.87 221.616 Q1617.64 221.616 1615.54 222.148 Q1613.43 222.681 1611.49 223.746 L1611.49 219.81 Q1613.83 218.908 1616.02 218.468 Q1618.22 218.005 1620.31 218.005 Q1625.93 218.005 1628.71 220.922 Q1631.49 223.838 1631.49 229.764 Z\" fill=\"#000000\" fill-rule=\"evenodd\" fill-opacity=\"1\" /><path clip-path=\"url(#clip530)\" d=\"M 0 0 M1651.58 223.028 L1681.26 223.028 L1681.26 226.917 L1651.58 226.917 L1651.58 223.028 M1651.58 232.472 L1681.26 232.472 L1681.26 236.408 L1651.58 236.408 L1651.58 232.472 Z\" fill=\"#000000\" fill-rule=\"evenodd\" fill-opacity=\"1\" /><path clip-path=\"url(#clip530)\" d=\"M 0 0 M1701.44 209.996 L1719.8 209.996 L1719.8 213.931 L1705.72 213.931 L1705.72 222.403 Q1706.74 222.056 1707.76 221.894 Q1708.78 221.709 1709.8 221.709 Q1715.58 221.709 1718.96 224.88 Q1722.34 228.051 1722.34 233.468 Q1722.34 239.046 1718.87 242.148 Q1715.4 245.227 1709.08 245.227 Q1706.9 245.227 1704.63 244.857 Q1702.39 244.486 1699.98 243.746 L1699.98 239.046 Q1702.07 240.181 1704.29 240.736 Q1706.51 241.292 1708.99 241.292 Q1712.99 241.292 1715.33 239.185 Q1717.67 237.079 1717.67 233.468 Q1717.67 229.857 1715.33 227.75 Q1712.99 225.644 1708.99 225.644 Q1707.11 225.644 1705.24 226.06 Q1703.39 226.477 1701.44 227.357 L1701.44 209.996 Z\" fill=\"#000000\" fill-rule=\"evenodd\" fill-opacity=\"1\" /><path clip-path=\"url(#clip530)\" d=\"M 0 0 M1727.41 238.676 L1732.3 238.676 L1732.3 244.556 L1727.41 244.556 L1727.41 238.676 Z\" fill=\"#000000\" fill-rule=\"evenodd\" fill-opacity=\"1\" /><path clip-path=\"url(#clip530)\" d=\"M 0 0 M1747.37 213.074 Q1743.76 213.074 1741.93 216.639 Q1740.12 220.181 1740.12 227.31 Q1740.12 234.417 1741.93 237.982 Q1743.76 241.523 1747.37 241.523 Q1751 241.523 1752.81 237.982 Q1754.63 234.417 1754.63 227.31 Q1754.63 220.181 1752.81 216.639 Q1751 213.074 1747.37 213.074 M1747.37 209.371 Q1753.18 209.371 1756.23 213.977 Q1759.31 218.56 1759.31 227.31 Q1759.31 236.037 1756.23 240.644 Q1753.18 245.227 1747.37 245.227 Q1741.56 245.227 1738.48 240.644 Q1735.42 236.037 1735.42 227.31 Q1735.42 218.56 1738.48 213.977 Q1741.56 209.371 1747.37 209.371 Z\" fill=\"#000000\" fill-rule=\"evenodd\" fill-opacity=\"1\" /><path clip-path=\"url(#clip530)\" d=\"M 0 0 M1774.38 213.074 Q1770.77 213.074 1768.94 216.639 Q1767.13 220.181 1767.13 227.31 Q1767.13 234.417 1768.94 237.982 Q1770.77 241.523 1774.38 241.523 Q1778.01 241.523 1779.82 237.982 Q1781.65 234.417 1781.65 227.31 Q1781.65 220.181 1779.82 216.639 Q1778.01 213.074 1774.38 213.074 M1774.38 209.371 Q1780.19 209.371 1783.25 213.977 Q1786.32 218.56 1786.32 227.31 Q1786.32 236.037 1783.25 240.644 Q1780.19 245.227 1774.38 245.227 Q1768.57 245.227 1765.49 240.644 Q1762.44 236.037 1762.44 227.31 Q1762.44 218.56 1765.49 213.977 Q1768.57 209.371 1774.38 209.371 Z\" fill=\"#000000\" fill-rule=\"evenodd\" fill-opacity=\"1\" /><path clip-path=\"url(#clip530)\" d=\"M 0 0 M1801.39 213.074 Q1797.78 213.074 1795.95 216.639 Q1794.15 220.181 1794.15 227.31 Q1794.15 234.417 1795.95 237.982 Q1797.78 241.523 1801.39 241.523 Q1805.03 241.523 1806.83 237.982 Q1808.66 234.417 1808.66 227.31 Q1808.66 220.181 1806.83 216.639 Q1805.03 213.074 1801.39 213.074 M1801.39 209.371 Q1807.2 209.371 1810.26 213.977 Q1813.34 218.56 1813.34 227.31 Q1813.34 236.037 1810.26 240.644 Q1807.2 245.227 1801.39 245.227 Q1795.58 245.227 1792.5 240.644 Q1789.45 236.037 1789.45 227.31 Q1789.45 218.56 1792.5 213.977 Q1795.58 209.371 1801.39 209.371 Z\" fill=\"#000000\" fill-rule=\"evenodd\" fill-opacity=\"1\" /><path clip-path=\"url(#clip530)\" d=\"M 0 0 M1828.41 213.074 Q1824.8 213.074 1822.97 216.639 Q1821.16 220.181 1821.16 227.31 Q1821.16 234.417 1822.97 237.982 Q1824.8 241.523 1828.41 241.523 Q1832.04 241.523 1833.85 237.982 Q1835.68 234.417 1835.68 227.31 Q1835.68 220.181 1833.85 216.639 Q1832.04 213.074 1828.41 213.074 M1828.41 209.371 Q1834.22 209.371 1837.27 213.977 Q1840.35 218.56 1840.35 227.31 Q1840.35 236.037 1837.27 240.644 Q1834.22 245.227 1828.41 245.227 Q1822.6 245.227 1819.52 240.644 Q1816.46 236.037 1816.46 227.31 Q1816.46 218.56 1819.52 213.977 Q1822.6 209.371 1828.41 209.371 Z\" fill=\"#000000\" fill-rule=\"evenodd\" fill-opacity=\"1\" /><path clip-path=\"url(#clip530)\" d=\"M 0 0 M1855.42 213.074 Q1851.81 213.074 1849.98 216.639 Q1848.18 220.181 1848.18 227.31 Q1848.18 234.417 1849.98 237.982 Q1851.81 241.523 1855.42 241.523 Q1859.06 241.523 1860.86 237.982 Q1862.69 234.417 1862.69 227.31 Q1862.69 220.181 1860.86 216.639 Q1859.06 213.074 1855.42 213.074 M1855.42 209.371 Q1861.23 209.371 1864.29 213.977 Q1867.37 218.56 1867.37 227.31 Q1867.37 236.037 1864.29 240.644 Q1861.23 245.227 1855.42 245.227 Q1849.61 245.227 1846.53 240.644 Q1843.48 236.037 1843.48 227.31 Q1843.48 218.56 1846.53 213.977 Q1849.61 209.371 1855.42 209.371 Z\" fill=\"#000000\" fill-rule=\"evenodd\" fill-opacity=\"1\" /><path clip-path=\"url(#clip530)\" d=\"M 0 0 M1882.43 213.074 Q1878.82 213.074 1877 216.639 Q1875.19 220.181 1875.19 227.31 Q1875.19 234.417 1877 237.982 Q1878.82 241.523 1882.43 241.523 Q1886.07 241.523 1887.87 237.982 Q1889.7 234.417 1889.7 227.31 Q1889.7 220.181 1887.87 216.639 Q1886.07 213.074 1882.43 213.074 M1882.43 209.371 Q1888.25 209.371 1891.3 213.977 Q1894.38 218.56 1894.38 227.31 Q1894.38 236.037 1891.3 240.644 Q1888.25 245.227 1882.43 245.227 Q1876.62 245.227 1873.55 240.644 Q1870.49 236.037 1870.49 227.31 Q1870.49 218.56 1873.55 213.977 Q1876.62 209.371 1882.43 209.371 Z\" fill=\"#000000\" fill-rule=\"evenodd\" fill-opacity=\"1\" /><path clip-path=\"url(#clip530)\" d=\"M 0 0 M1909.45 213.074 Q1905.84 213.074 1904.01 216.639 Q1902.2 220.181 1902.2 227.31 Q1902.2 234.417 1904.01 237.982 Q1905.84 241.523 1909.45 241.523 Q1913.08 241.523 1914.89 237.982 Q1916.72 234.417 1916.72 227.31 Q1916.72 220.181 1914.89 216.639 Q1913.08 213.074 1909.45 213.074 M1909.45 209.371 Q1915.26 209.371 1918.31 213.977 Q1921.39 218.56 1921.39 227.31 Q1921.39 236.037 1918.31 240.644 Q1915.26 245.227 1909.45 245.227 Q1903.64 245.227 1900.56 240.644 Q1897.5 236.037 1897.5 227.31 Q1897.5 218.56 1900.56 213.977 Q1903.64 209.371 1909.45 209.371 Z\" fill=\"#000000\" fill-rule=\"evenodd\" fill-opacity=\"1\" /><path clip-path=\"url(#clip530)\" d=\"M 0 0 M1936.46 213.074 Q1932.85 213.074 1931.02 216.639 Q1929.22 220.181 1929.22 227.31 Q1929.22 234.417 1931.02 237.982 Q1932.85 241.523 1936.46 241.523 Q1940.1 241.523 1941.9 237.982 Q1943.73 234.417 1943.73 227.31 Q1943.73 220.181 1941.9 216.639 Q1940.1 213.074 1936.46 213.074 M1936.46 209.371 Q1942.27 209.371 1945.33 213.977 Q1948.41 218.56 1948.41 227.31 Q1948.41 236.037 1945.33 240.644 Q1942.27 245.227 1936.46 245.227 Q1930.65 245.227 1927.57 240.644 Q1924.52 236.037 1924.52 227.31 Q1924.52 218.56 1927.57 213.977 Q1930.65 209.371 1936.46 209.371 Z\" fill=\"#000000\" fill-rule=\"evenodd\" fill-opacity=\"1\" /><path clip-path=\"url(#clip530)\" d=\"M 0 0 M1963.48 213.074 Q1959.87 213.074 1958.04 216.639 Q1956.23 220.181 1956.23 227.31 Q1956.23 234.417 1958.04 237.982 Q1959.87 241.523 1963.48 241.523 Q1967.11 241.523 1968.92 237.982 Q1970.74 234.417 1970.74 227.31 Q1970.74 220.181 1968.92 216.639 Q1967.11 213.074 1963.48 213.074 M1963.48 209.371 Q1969.29 209.371 1972.34 213.977 Q1975.42 218.56 1975.42 227.31 Q1975.42 236.037 1972.34 240.644 Q1969.29 245.227 1963.48 245.227 Q1957.67 245.227 1954.59 240.644 Q1951.53 236.037 1951.53 227.31 Q1951.53 218.56 1954.59 213.977 Q1957.67 209.371 1963.48 209.371 Z\" fill=\"#000000\" fill-rule=\"evenodd\" fill-opacity=\"1\" /><path clip-path=\"url(#clip530)\" d=\"M 0 0 M1990.49 213.074 Q1986.88 213.074 1985.05 216.639 Q1983.24 220.181 1983.24 227.31 Q1983.24 234.417 1985.05 237.982 Q1986.88 241.523 1990.49 241.523 Q1994.12 241.523 1995.93 237.982 Q1997.76 234.417 1997.76 227.31 Q1997.76 220.181 1995.93 216.639 Q1994.12 213.074 1990.49 213.074 M1990.49 209.371 Q1996.3 209.371 1999.36 213.977 Q2002.43 218.56 2002.43 227.31 Q2002.43 236.037 1999.36 240.644 Q1996.3 245.227 1990.49 245.227 Q1984.68 245.227 1981.6 240.644 Q1978.55 236.037 1978.55 227.31 Q1978.55 218.56 1981.6 213.977 Q1984.68 209.371 1990.49 209.371 Z\" fill=\"#000000\" fill-rule=\"evenodd\" fill-opacity=\"1\" /><path clip-path=\"url(#clip530)\" d=\"M 0 0 M2017.5 213.074 Q2013.89 213.074 2012.06 216.639 Q2010.26 220.181 2010.26 227.31 Q2010.26 234.417 2012.06 237.982 Q2013.89 241.523 2017.5 241.523 Q2021.14 241.523 2022.94 237.982 Q2024.77 234.417 2024.77 227.31 Q2024.77 220.181 2022.94 216.639 Q2021.14 213.074 2017.5 213.074 M2017.5 209.371 Q2023.31 209.371 2026.37 213.977 Q2029.45 218.56 2029.45 227.31 Q2029.45 236.037 2026.37 240.644 Q2023.31 245.227 2017.5 245.227 Q2011.69 245.227 2008.61 240.644 Q2005.56 236.037 2005.56 227.31 Q2005.56 218.56 2008.61 213.977 Q2011.69 209.371 2017.5 209.371 Z\" fill=\"#000000\" fill-rule=\"evenodd\" fill-opacity=\"1\" /><path clip-path=\"url(#clip530)\" d=\"M 0 0 M2044.52 213.074 Q2040.91 213.074 2039.08 216.639 Q2037.27 220.181 2037.27 227.31 Q2037.27 234.417 2039.08 237.982 Q2040.91 241.523 2044.52 241.523 Q2048.15 241.523 2049.96 237.982 Q2051.79 234.417 2051.79 227.31 Q2051.79 220.181 2049.96 216.639 Q2048.15 213.074 2044.52 213.074 M2044.52 209.371 Q2050.33 209.371 2053.38 213.977 Q2056.46 218.56 2056.46 227.31 Q2056.46 236.037 2053.38 240.644 Q2050.33 245.227 2044.52 245.227 Q2038.71 245.227 2035.63 240.644 Q2032.57 236.037 2032.57 227.31 Q2032.57 218.56 2035.63 213.977 Q2038.71 209.371 2044.52 209.371 Z\" fill=\"#000000\" fill-rule=\"evenodd\" fill-opacity=\"1\" /><path clip-path=\"url(#clip530)\" d=\"M 0 0 M2071.53 213.074 Q2067.92 213.074 2066.09 216.639 Q2064.29 220.181 2064.29 227.31 Q2064.29 234.417 2066.09 237.982 Q2067.92 241.523 2071.53 241.523 Q2075.17 241.523 2076.97 237.982 Q2078.8 234.417 2078.8 227.31 Q2078.8 220.181 2076.97 216.639 Q2075.17 213.074 2071.53 213.074 M2071.53 209.371 Q2077.34 209.371 2080.4 213.977 Q2083.48 218.56 2083.48 227.31 Q2083.48 236.037 2080.4 240.644 Q2077.34 245.227 2071.53 245.227 Q2065.72 245.227 2062.64 240.644 Q2059.59 236.037 2059.59 227.31 Q2059.59 218.56 2062.64 213.977 Q2065.72 209.371 2071.53 209.371 Z\" fill=\"#000000\" fill-rule=\"evenodd\" fill-opacity=\"1\" /><path clip-path=\"url(#clip530)\" d=\"M 0 0 M2098.54 213.074 Q2094.93 213.074 2093.11 216.639 Q2091.3 220.181 2091.3 227.31 Q2091.3 234.417 2093.11 237.982 Q2094.93 241.523 2098.54 241.523 Q2102.18 241.523 2103.98 237.982 Q2105.81 234.417 2105.81 227.31 Q2105.81 220.181 2103.98 216.639 Q2102.18 213.074 2098.54 213.074 M2098.54 209.371 Q2104.36 209.371 2107.41 213.977 Q2110.49 218.56 2110.49 227.31 Q2110.49 236.037 2107.41 240.644 Q2104.36 245.227 2098.54 245.227 Q2092.73 245.227 2089.66 240.644 Q2086.6 236.037 2086.6 227.31 Q2086.6 218.56 2089.66 213.977 Q2092.73 209.371 2098.54 209.371 Z\" fill=\"#000000\" fill-rule=\"evenodd\" fill-opacity=\"1\" /><path clip-path=\"url(#clip530)\" d=\"M 0 0 M2119.59 240.621 L2135.91 240.621 L2135.91 244.556 L2113.96 244.556 L2113.96 240.621 Q2116.62 237.866 2121.21 233.236 Q2125.81 228.584 2126.99 227.241 Q2129.24 224.718 2130.12 222.982 Q2131.02 221.223 2131.02 219.533 Q2131.02 216.778 2129.08 215.042 Q2127.16 213.306 2124.05 213.306 Q2121.85 213.306 2119.4 214.07 Q2116.97 214.834 2114.19 216.385 L2114.19 211.662 Q2117.02 210.528 2119.47 209.949 Q2121.92 209.371 2123.96 209.371 Q2129.33 209.371 2132.53 212.056 Q2135.72 214.741 2135.72 219.232 Q2135.72 221.361 2134.91 223.283 Q2134.12 225.181 2132.02 227.773 Q2131.44 228.445 2128.34 231.662 Q2125.23 234.857 2119.59 240.621 Z\" fill=\"#000000\" fill-rule=\"evenodd\" fill-opacity=\"1\" /><path clip-path=\"url(#clip530)\" d=\"M 0 0 M2153.82 214.07 L2142.02 232.519 L2153.82 232.519 L2153.82 214.07 M2152.6 209.996 L2158.48 209.996 L2158.48 232.519 L2163.41 232.519 L2163.41 236.408 L2158.48 236.408 L2158.48 244.556 L2153.82 244.556 L2153.82 236.408 L2138.22 236.408 L2138.22 231.894 L2152.6 209.996 Z\" fill=\"#000000\" fill-rule=\"evenodd\" fill-opacity=\"1\" /><path clip-path=\"url(#clip530)\" d=\"M 0 0 M2190.05 230.528 L2190.05 232.611 L2170.47 232.611 Q2170.74 237.009 2173.1 239.324 Q2175.49 241.616 2179.73 241.616 Q2182.18 241.616 2184.47 241.014 Q2186.79 240.412 2189.05 239.209 L2189.05 243.236 Q2186.76 244.208 2184.35 244.718 Q2181.95 245.227 2179.47 245.227 Q2173.27 245.227 2169.63 241.616 Q2166.02 238.005 2166.02 231.847 Q2166.02 225.482 2169.45 221.755 Q2172.9 218.005 2178.73 218.005 Q2183.96 218.005 2186.99 221.385 Q2190.05 224.741 2190.05 230.528 M2185.79 229.278 Q2185.74 225.783 2183.82 223.699 Q2181.92 221.616 2178.78 221.616 Q2175.21 221.616 2173.06 223.63 Q2170.93 225.644 2170.6 229.301 L2185.79 229.278 Z\" fill=\"#000000\" fill-rule=\"evenodd\" fill-opacity=\"1\" /><path clip-path=\"url(#clip530)\" d=\"M 0 0 M2192.36 229.672 L2204.84 229.672 L2204.84 233.468 L2192.36 233.468 L2192.36 229.672 Z\" fill=\"#000000\" fill-rule=\"evenodd\" fill-opacity=\"1\" /><path clip-path=\"url(#clip530)\" d=\"M 0 0 M2219.91 228.144 Q2216.58 228.144 2214.66 229.926 Q2212.76 231.709 2212.76 234.834 Q2212.76 237.959 2214.66 239.741 Q2216.58 241.523 2219.91 241.523 Q2223.24 241.523 2225.16 239.741 Q2227.09 237.935 2227.09 234.834 Q2227.09 231.709 2225.16 229.926 Q2223.27 228.144 2219.91 228.144 M2215.23 226.153 Q2212.22 225.412 2210.54 223.352 Q2208.87 221.292 2208.87 218.329 Q2208.87 214.186 2211.81 211.778 Q2214.77 209.371 2219.91 209.371 Q2225.07 209.371 2228.01 211.778 Q2230.95 214.186 2230.95 218.329 Q2230.95 221.292 2229.26 223.352 Q2227.6 225.412 2224.61 226.153 Q2227.99 226.94 2229.86 229.232 Q2231.76 231.523 2231.76 234.834 Q2231.76 239.857 2228.68 242.542 Q2225.63 245.227 2219.91 245.227 Q2214.19 245.227 2211.11 242.542 Q2208.06 239.857 2208.06 234.834 Q2208.06 231.523 2209.96 229.232 Q2211.85 226.94 2215.23 226.153 M2213.52 218.769 Q2213.52 221.454 2215.19 222.959 Q2216.88 224.463 2219.91 224.463 Q2222.92 224.463 2224.61 222.959 Q2226.32 221.454 2226.32 218.769 Q2226.32 216.084 2224.61 214.579 Q2222.92 213.074 2219.91 213.074 Q2216.88 213.074 2215.19 214.579 Q2213.52 216.084 2213.52 218.769 Z\" fill=\"#000000\" fill-rule=\"evenodd\" fill-opacity=\"1\" /></svg>\n"
      ]
     },
     "execution_count": 9,
     "metadata": {},
     "output_type": "execute_result"
    }
   ],
   "source": [
    "plot(γs, power_effectsize, title = \"Multinomial Power\", label = \"maf = $maf_causal_snp, alpha = $α\", lw = 3) # plot power\n",
    "xlabel!(\"Detectable Effect Size\")"
   ]
  },
  {
   "cell_type": "markdown",
   "metadata": {},
   "source": [
    "In this example, we set $\\alpha = 5 \\times 10^{-8}$ and we calculate the power for the model as the proportion of n = 100 tests rejecting the null. Increasing the number of tests will produce a smoother power trajectory. "
   ]
  },
  {
   "cell_type": "markdown",
   "metadata": {},
   "source": [
    "### `Try it Yourself Exercises: `\n",
    "\n",
    "With the remaining time we encourage you to play with the simulation models above. \n",
    "\n",
    "(1) If you change the significance level, α, what would happen to the plot of the power? How would the plot change with a smaller value of α ? \n",
    "\n",
    "(2) What if you change the sample size to be smaller than `n = 5000`? How does the power look as a function of the effect size when `n = 2500`? \n",
    "\n",
    "(3) What if we changed the minor allele frequency of the SNP of interest from `maf = 0.2` to say `maf = 0.3` ?"
   ]
  },
  {
   "cell_type": "markdown",
   "metadata": {},
   "source": [
    "## Citations: \n",
    "\n",
    "[1] Lange K, Papp JC, Sinsheimer JS, Sripracha R, Zhou H, Sobel EM (2013) Mendel: The Swiss army knife of genetic analysis programs. Bioinformatics 29:1568-1570.`\n",
    "\n",
    "[2] OPENMENDEL: a cooperative programming project for statistical genetics.\n",
    "[Hum Genet. 2019 Mar 26. doi: 10.1007/s00439-019-02001-z](https://www.ncbi.nlm.nih.gov/pubmed/?term=OPENMENDEL).\n",
    "\n",
    "[3] German, CA, Sinsheimer, JS, Klimentidis, YC, Zhou, H, Zhou, JJ. Ordered multinomial regression for genetic association analysis of ordinal phenotypes at Biobank scale. Genetic Epidemiology. 2019; 1– 13. https://doi.org/10.1002/gepi.22276\n",
    "\n",
    "[4] Lange K, Boehnke M (1983) Extensions to pedigree analysis. IV. Covariance component models for multivariate traits. Amer J Med Genet 14:513:524\n",
    "\n",
    "[5] Ji, SS, Lange, K, Sinsheimer, JS, Zhou, JJ, Zhou, H, Sobel, E. Modern Simulation Utilities for Genetic Analysis. BMC Bioinformatics. 2020; BINF-D-20-00690"
   ]
  }
 ],
 "metadata": {
  "@webio": {
   "lastCommId": null,
   "lastKernelId": null
  },
  "kernelspec": {
   "display_name": "Julia 1.5.2",
   "language": "julia",
   "name": "julia-1.5"
  },
  "language_info": {
   "file_extension": ".jl",
   "mimetype": "application/julia",
   "name": "julia",
   "version": "1.5.2"
  },
  "toc": {
   "base_numbering": 1,
   "nav_menu": {},
   "number_sections": true,
   "sideBar": true,
   "skip_h1_title": false,
   "title_cell": "Table of Contents",
   "title_sidebar": "Contents",
   "toc_cell": false,
   "toc_position": {},
   "toc_section_display": true,
   "toc_window_display": false
  }
 },
 "nbformat": 4,
 "nbformat_minor": 2
}
